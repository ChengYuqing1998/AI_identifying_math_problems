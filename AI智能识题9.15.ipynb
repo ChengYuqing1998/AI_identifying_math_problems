{
 "cells": [
  {
   "cell_type": "markdown",
   "metadata": {},
   "source": [
    "## 项目: AI智能识题\n",
    "\n",
    "\n",
    "- **实验任务**：给定数学题目，确定此类数学题目是“三角函数与解三角函数”这类题目，还是“函数与导数”这类题目。\n",
    "- **实验步骤**：    \n",
    "                        1. 对数据进行探索，搞明白数据之间的关系。\n",
    "                        2. 清洗数据，对文本数据进行处理。\n",
    "                            a. 过滤出中文单词。\n",
    "                            b. 过滤出latex中有意义的符号。\n",
    "                            c. 过滤出题目中插图信息。\n",
    "                            d. 使用jieba进行中文分词。\n",
    "                            e. 使用stopwords过滤常用停用词。\n",
    "                        3. 生成样本数据和标签。\n",
    "                        4. 使用tfidf生成文档向量。\n",
    "                        5. 选择模型进行交叉验证和网格搜索。\n",
    "                        6. 模型的集成。\n",
    "                        7. 画出ROC曲线。\n"
   ]
  },
  {
   "cell_type": "markdown",
   "metadata": {},
   "source": [
    "## 步骤一：数据的探索\n",
    "\n",
    "对数据进行探索，搞明白\n",
    "-  knowledge_hierarchy\n",
    "- question_knowledge_hierarchy_sx\n",
    "- tk_answer_option_sx\n",
    "- tiku_question_sx\n",
    "\n",
    "之间的关系，找到“三角函数与解三角形”和“函数与导数”的知识点数据"
   ]
  },
  {
   "cell_type": "markdown",
   "metadata": {},
   "source": [
    "****程玉卿****"
   ]
  },
  {
   "cell_type": "code",
   "execution_count": 1,
   "metadata": {},
   "outputs": [
    {
     "name": "stderr",
     "output_type": "stream",
     "text": [
      "/Users/chengyuqing/anaconda3/lib/python3.6/site-packages/IPython/core/interactiveshell.py:2785: DtypeWarning: Columns (26,27,28,29,30,31,33,34,35) have mixed types. Specify dtype option on import or set low_memory=False.\n",
      "  interactivity=interactivity, compiler=compiler, result=result)\n"
     ]
    }
   ],
   "source": [
    "## 请不要修改下方代码\n",
    "# 导入依赖库\n",
    "import pandas as pd\n",
    "import numpy as np\n",
    "#加载数据\n",
    "data = pd.read_csv('camp_dataset/data/tiku_question_sx.csv')\n",
    "#改变数据索引\n",
    "#data为所有问题的数据\n",
    "#label为所有问题的标签\n",
    "data.set_index('que_id',inplace=True)\n",
    "label = pd.read_csv('camp_dataset/data/question_knowledge_hierarchy_sx.csv')"
   ]
  },
  {
   "cell_type": "code",
   "execution_count": 2,
   "metadata": {},
   "outputs": [],
   "source": [
    "label.rename(columns={'question_id':'que_id'},inplace=True)"
   ]
  },
  {
   "cell_type": "code",
   "execution_count": 3,
   "metadata": {},
   "outputs": [
    {
     "data": {
      "text/html": [
       "<div>\n",
       "<style scoped>\n",
       "    .dataframe tbody tr th:only-of-type {\n",
       "        vertical-align: middle;\n",
       "    }\n",
       "\n",
       "    .dataframe tbody tr th {\n",
       "        vertical-align: top;\n",
       "    }\n",
       "\n",
       "    .dataframe thead th {\n",
       "        text-align: right;\n",
       "    }\n",
       "</style>\n",
       "<table border=\"1\" class=\"dataframe\">\n",
       "  <thead>\n",
       "    <tr style=\"text-align: right;\">\n",
       "      <th></th>\n",
       "      <th>parent_id</th>\n",
       "      <th>root_id</th>\n",
       "      <th>subject_id</th>\n",
       "      <th>grade_group_id</th>\n",
       "      <th>qt_id</th>\n",
       "      <th>wqt_id</th>\n",
       "      <th>ks_id</th>\n",
       "      <th>mqt_ids</th>\n",
       "      <th>mqt_name</th>\n",
       "      <th>voice_text</th>\n",
       "      <th>...</th>\n",
       "      <th>bx_answer</th>\n",
       "      <th>que_creater_source</th>\n",
       "      <th>que_desc</th>\n",
       "      <th>blank_answer</th>\n",
       "      <th>blank_disponse</th>\n",
       "      <th>is_private</th>\n",
       "      <th>private_time</th>\n",
       "      <th>dispose_person_id</th>\n",
       "      <th>order_id</th>\n",
       "      <th>is_init_know</th>\n",
       "    </tr>\n",
       "    <tr>\n",
       "      <th>que_id</th>\n",
       "      <th></th>\n",
       "      <th></th>\n",
       "      <th></th>\n",
       "      <th></th>\n",
       "      <th></th>\n",
       "      <th></th>\n",
       "      <th></th>\n",
       "      <th></th>\n",
       "      <th></th>\n",
       "      <th></th>\n",
       "      <th></th>\n",
       "      <th></th>\n",
       "      <th></th>\n",
       "      <th></th>\n",
       "      <th></th>\n",
       "      <th></th>\n",
       "      <th></th>\n",
       "      <th></th>\n",
       "      <th></th>\n",
       "      <th></th>\n",
       "      <th></th>\n",
       "    </tr>\n",
       "  </thead>\n",
       "  <tbody>\n",
       "    <tr>\n",
       "      <th>0001a4509d9e4d069f5c651b816a80a6</th>\n",
       "      <td>0</td>\n",
       "      <td>0</td>\n",
       "      <td>2</td>\n",
       "      <td>3</td>\n",
       "      <td>1</td>\n",
       "      <td>13f97b02f7e4f2c9d35ec1af3c2d1001</td>\n",
       "      <td>NaN</td>\n",
       "      <td>NaN</td>\n",
       "      <td>NaN</td>\n",
       "      <td>NaN</td>\n",
       "      <td>...</td>\n",
       "      <td>NaN</td>\n",
       "      <td>0</td>\n",
       "      <td>NaN</td>\n",
       "      <td>NaN</td>\n",
       "      <td>0</td>\n",
       "      <td>0</td>\n",
       "      <td>2017-07-20 18:31:37</td>\n",
       "      <td>NaN</td>\n",
       "      <td>NaN</td>\n",
       "      <td>0</td>\n",
       "    </tr>\n",
       "    <tr>\n",
       "      <th>0001bd9da0ed4230a6c853bdfc7e7c74</th>\n",
       "      <td>1ba300886865420ba2f117906dc51f51</td>\n",
       "      <td>1ba300886865420ba2f117906dc51f51</td>\n",
       "      <td>2</td>\n",
       "      <td>3</td>\n",
       "      <td>8</td>\n",
       "      <td>13f97b02f7e4f2c9d35ec1af3c2d1003</td>\n",
       "      <td>NaN</td>\n",
       "      <td>NaN</td>\n",
       "      <td>NaN</td>\n",
       "      <td>NaN</td>\n",
       "      <td>...</td>\n",
       "      <td>NaN</td>\n",
       "      <td>0</td>\n",
       "      <td>NaN</td>\n",
       "      <td>NaN</td>\n",
       "      <td>0</td>\n",
       "      <td>0</td>\n",
       "      <td>2017-01-11 21:35:23</td>\n",
       "      <td>NaN</td>\n",
       "      <td>NaN</td>\n",
       "      <td>0</td>\n",
       "    </tr>\n",
       "    <tr>\n",
       "      <th>0001f7f83edf44e6a937bd49f020dc1f</th>\n",
       "      <td>8f9be8fe935045ee90eb78c346cb2854</td>\n",
       "      <td>8f9be8fe935045ee90eb78c346cb2854</td>\n",
       "      <td>2</td>\n",
       "      <td>3</td>\n",
       "      <td>1</td>\n",
       "      <td>13f97b02f7e4f2c9d35ec1af3c2d1003</td>\n",
       "      <td>NaN</td>\n",
       "      <td>NaN</td>\n",
       "      <td>NaN</td>\n",
       "      <td>NaN</td>\n",
       "      <td>...</td>\n",
       "      <td>NaN</td>\n",
       "      <td>0</td>\n",
       "      <td>NaN</td>\n",
       "      <td>NaN</td>\n",
       "      <td>0</td>\n",
       "      <td>0</td>\n",
       "      <td>2017-10-10 00:00:00</td>\n",
       "      <td>NaN</td>\n",
       "      <td>91d31c377a85423396ac2d5e80f8ae88</td>\n",
       "      <td>0</td>\n",
       "    </tr>\n",
       "    <tr>\n",
       "      <th>00025da5c33c49a7949247a099664ed8</th>\n",
       "      <td>6d4079a54c4945daafc1f396d3388f8d</td>\n",
       "      <td>6d4079a54c4945daafc1f396d3388f8d</td>\n",
       "      <td>2</td>\n",
       "      <td>3</td>\n",
       "      <td>8</td>\n",
       "      <td>13f97b02f7e4f2c9d35ec1af3c2d1003</td>\n",
       "      <td>NaN</td>\n",
       "      <td>NaN</td>\n",
       "      <td>NaN</td>\n",
       "      <td>NaN</td>\n",
       "      <td>...</td>\n",
       "      <td>NaN</td>\n",
       "      <td>0</td>\n",
       "      <td>NaN</td>\n",
       "      <td>NaN</td>\n",
       "      <td>0</td>\n",
       "      <td>0</td>\n",
       "      <td>2016-05-16 10:19:21</td>\n",
       "      <td>NaN</td>\n",
       "      <td>NaN</td>\n",
       "      <td>0</td>\n",
       "    </tr>\n",
       "    <tr>\n",
       "      <th>000297a6dffb4d31a62f36cd5206441b</th>\n",
       "      <td>0</td>\n",
       "      <td>0</td>\n",
       "      <td>2</td>\n",
       "      <td>3</td>\n",
       "      <td>9</td>\n",
       "      <td>13f97b02f7e4f2c9d35ec1af3c2d1003</td>\n",
       "      <td>NaN</td>\n",
       "      <td>NaN</td>\n",
       "      <td>NaN</td>\n",
       "      <td>NaN</td>\n",
       "      <td>...</td>\n",
       "      <td>NaN</td>\n",
       "      <td>0</td>\n",
       "      <td>NaN</td>\n",
       "      <td>NaN</td>\n",
       "      <td>0</td>\n",
       "      <td>0</td>\n",
       "      <td>2017-10-30 18:15:46</td>\n",
       "      <td>NaN</td>\n",
       "      <td>NaN</td>\n",
       "      <td>0</td>\n",
       "    </tr>\n",
       "  </tbody>\n",
       "</table>\n",
       "<p>5 rows × 48 columns</p>\n",
       "</div>"
      ],
      "text/plain": [
       "                                                         parent_id  \\\n",
       "que_id                                                               \n",
       "0001a4509d9e4d069f5c651b816a80a6                                 0   \n",
       "0001bd9da0ed4230a6c853bdfc7e7c74  1ba300886865420ba2f117906dc51f51   \n",
       "0001f7f83edf44e6a937bd49f020dc1f  8f9be8fe935045ee90eb78c346cb2854   \n",
       "00025da5c33c49a7949247a099664ed8  6d4079a54c4945daafc1f396d3388f8d   \n",
       "000297a6dffb4d31a62f36cd5206441b                                 0   \n",
       "\n",
       "                                                           root_id  \\\n",
       "que_id                                                               \n",
       "0001a4509d9e4d069f5c651b816a80a6                                 0   \n",
       "0001bd9da0ed4230a6c853bdfc7e7c74  1ba300886865420ba2f117906dc51f51   \n",
       "0001f7f83edf44e6a937bd49f020dc1f  8f9be8fe935045ee90eb78c346cb2854   \n",
       "00025da5c33c49a7949247a099664ed8  6d4079a54c4945daafc1f396d3388f8d   \n",
       "000297a6dffb4d31a62f36cd5206441b                                 0   \n",
       "\n",
       "                                  subject_id  grade_group_id  qt_id  \\\n",
       "que_id                                                                \n",
       "0001a4509d9e4d069f5c651b816a80a6           2               3      1   \n",
       "0001bd9da0ed4230a6c853bdfc7e7c74           2               3      8   \n",
       "0001f7f83edf44e6a937bd49f020dc1f           2               3      1   \n",
       "00025da5c33c49a7949247a099664ed8           2               3      8   \n",
       "000297a6dffb4d31a62f36cd5206441b           2               3      9   \n",
       "\n",
       "                                                            wqt_id  ks_id  \\\n",
       "que_id                                                                      \n",
       "0001a4509d9e4d069f5c651b816a80a6  13f97b02f7e4f2c9d35ec1af3c2d1001    NaN   \n",
       "0001bd9da0ed4230a6c853bdfc7e7c74  13f97b02f7e4f2c9d35ec1af3c2d1003    NaN   \n",
       "0001f7f83edf44e6a937bd49f020dc1f  13f97b02f7e4f2c9d35ec1af3c2d1003    NaN   \n",
       "00025da5c33c49a7949247a099664ed8  13f97b02f7e4f2c9d35ec1af3c2d1003    NaN   \n",
       "000297a6dffb4d31a62f36cd5206441b  13f97b02f7e4f2c9d35ec1af3c2d1003    NaN   \n",
       "\n",
       "                                  mqt_ids  mqt_name  voice_text      ...       \\\n",
       "que_id                                                               ...        \n",
       "0001a4509d9e4d069f5c651b816a80a6      NaN       NaN         NaN      ...        \n",
       "0001bd9da0ed4230a6c853bdfc7e7c74      NaN       NaN         NaN      ...        \n",
       "0001f7f83edf44e6a937bd49f020dc1f      NaN       NaN         NaN      ...        \n",
       "00025da5c33c49a7949247a099664ed8      NaN       NaN         NaN      ...        \n",
       "000297a6dffb4d31a62f36cd5206441b      NaN       NaN         NaN      ...        \n",
       "\n",
       "                                 bx_answer que_creater_source que_desc  \\\n",
       "que_id                                                                   \n",
       "0001a4509d9e4d069f5c651b816a80a6       NaN                  0      NaN   \n",
       "0001bd9da0ed4230a6c853bdfc7e7c74       NaN                  0      NaN   \n",
       "0001f7f83edf44e6a937bd49f020dc1f       NaN                  0      NaN   \n",
       "00025da5c33c49a7949247a099664ed8       NaN                  0      NaN   \n",
       "000297a6dffb4d31a62f36cd5206441b       NaN                  0      NaN   \n",
       "\n",
       "                                 blank_answer  blank_disponse  is_private  \\\n",
       "que_id                                                                      \n",
       "0001a4509d9e4d069f5c651b816a80a6          NaN               0           0   \n",
       "0001bd9da0ed4230a6c853bdfc7e7c74          NaN               0           0   \n",
       "0001f7f83edf44e6a937bd49f020dc1f          NaN               0           0   \n",
       "00025da5c33c49a7949247a099664ed8          NaN               0           0   \n",
       "000297a6dffb4d31a62f36cd5206441b          NaN               0           0   \n",
       "\n",
       "                                         private_time  dispose_person_id  \\\n",
       "que_id                                                                     \n",
       "0001a4509d9e4d069f5c651b816a80a6  2017-07-20 18:31:37                NaN   \n",
       "0001bd9da0ed4230a6c853bdfc7e7c74  2017-01-11 21:35:23                NaN   \n",
       "0001f7f83edf44e6a937bd49f020dc1f  2017-10-10 00:00:00                NaN   \n",
       "00025da5c33c49a7949247a099664ed8  2016-05-16 10:19:21                NaN   \n",
       "000297a6dffb4d31a62f36cd5206441b  2017-10-30 18:15:46                NaN   \n",
       "\n",
       "                                                          order_id  \\\n",
       "que_id                                                               \n",
       "0001a4509d9e4d069f5c651b816a80a6                               NaN   \n",
       "0001bd9da0ed4230a6c853bdfc7e7c74                               NaN   \n",
       "0001f7f83edf44e6a937bd49f020dc1f  91d31c377a85423396ac2d5e80f8ae88   \n",
       "00025da5c33c49a7949247a099664ed8                               NaN   \n",
       "000297a6dffb4d31a62f36cd5206441b                               NaN   \n",
       "\n",
       "                                  is_init_know  \n",
       "que_id                                          \n",
       "0001a4509d9e4d069f5c651b816a80a6             0  \n",
       "0001bd9da0ed4230a6c853bdfc7e7c74             0  \n",
       "0001f7f83edf44e6a937bd49f020dc1f             0  \n",
       "00025da5c33c49a7949247a099664ed8             0  \n",
       "000297a6dffb4d31a62f36cd5206441b             0  \n",
       "\n",
       "[5 rows x 48 columns]"
      ]
     },
     "execution_count": 3,
     "metadata": {},
     "output_type": "execute_result"
    }
   ],
   "source": [
    "data.head()"
   ]
  },
  {
   "cell_type": "code",
   "execution_count": 4,
   "metadata": {},
   "outputs": [
    {
     "data": {
      "text/html": [
       "<div>\n",
       "<style scoped>\n",
       "    .dataframe tbody tr th:only-of-type {\n",
       "        vertical-align: middle;\n",
       "    }\n",
       "\n",
       "    .dataframe tbody tr th {\n",
       "        vertical-align: top;\n",
       "    }\n",
       "\n",
       "    .dataframe thead th {\n",
       "        text-align: right;\n",
       "    }\n",
       "</style>\n",
       "<table border=\"1\" class=\"dataframe\">\n",
       "  <thead>\n",
       "    <tr style=\"text-align: right;\">\n",
       "      <th></th>\n",
       "      <th>que_id</th>\n",
       "      <th>parent_id</th>\n",
       "      <th>root_id</th>\n",
       "      <th>subject_id</th>\n",
       "      <th>grade_group_id</th>\n",
       "      <th>qt_id</th>\n",
       "      <th>wqt_id</th>\n",
       "      <th>ks_id</th>\n",
       "      <th>mqt_ids</th>\n",
       "      <th>mqt_name</th>\n",
       "      <th>...</th>\n",
       "      <th>blank_answer</th>\n",
       "      <th>blank_disponse</th>\n",
       "      <th>is_private</th>\n",
       "      <th>private_time</th>\n",
       "      <th>dispose_person_id</th>\n",
       "      <th>order_id</th>\n",
       "      <th>is_init_know</th>\n",
       "      <th>id</th>\n",
       "      <th>kh_id</th>\n",
       "      <th>create_time</th>\n",
       "    </tr>\n",
       "  </thead>\n",
       "  <tbody>\n",
       "    <tr>\n",
       "      <th>0</th>\n",
       "      <td>0001a4509d9e4d069f5c651b816a80a6</td>\n",
       "      <td>0</td>\n",
       "      <td>0</td>\n",
       "      <td>2</td>\n",
       "      <td>3</td>\n",
       "      <td>1</td>\n",
       "      <td>13f97b02f7e4f2c9d35ec1af3c2d1001</td>\n",
       "      <td>NaN</td>\n",
       "      <td>NaN</td>\n",
       "      <td>NaN</td>\n",
       "      <td>...</td>\n",
       "      <td>NaN</td>\n",
       "      <td>0</td>\n",
       "      <td>0</td>\n",
       "      <td>2017-07-20 18:31:37</td>\n",
       "      <td>NaN</td>\n",
       "      <td>NaN</td>\n",
       "      <td>0</td>\n",
       "      <td>4fea6a6f34e94f2b889146c489285301</td>\n",
       "      <td>hcwf4avcmp8l53s5iq010pelwlce0035</td>\n",
       "      <td>2017-11-21 00:00:00</td>\n",
       "    </tr>\n",
       "    <tr>\n",
       "      <th>1</th>\n",
       "      <td>0001a4509d9e4d069f5c651b816a80a6</td>\n",
       "      <td>0</td>\n",
       "      <td>0</td>\n",
       "      <td>2</td>\n",
       "      <td>3</td>\n",
       "      <td>1</td>\n",
       "      <td>13f97b02f7e4f2c9d35ec1af3c2d1001</td>\n",
       "      <td>NaN</td>\n",
       "      <td>NaN</td>\n",
       "      <td>NaN</td>\n",
       "      <td>...</td>\n",
       "      <td>NaN</td>\n",
       "      <td>0</td>\n",
       "      <td>0</td>\n",
       "      <td>2017-07-20 18:31:37</td>\n",
       "      <td>NaN</td>\n",
       "      <td>NaN</td>\n",
       "      <td>0</td>\n",
       "      <td>70d2715532ca4de7be29dcae14c011f8</td>\n",
       "      <td>1488a9f33b294046b0af671c20e5b370</td>\n",
       "      <td>2017-11-21 00:00:00</td>\n",
       "    </tr>\n",
       "    <tr>\n",
       "      <th>2</th>\n",
       "      <td>0001a4509d9e4d069f5c651b816a80a6</td>\n",
       "      <td>0</td>\n",
       "      <td>0</td>\n",
       "      <td>2</td>\n",
       "      <td>3</td>\n",
       "      <td>1</td>\n",
       "      <td>13f97b02f7e4f2c9d35ec1af3c2d1001</td>\n",
       "      <td>NaN</td>\n",
       "      <td>NaN</td>\n",
       "      <td>NaN</td>\n",
       "      <td>...</td>\n",
       "      <td>NaN</td>\n",
       "      <td>0</td>\n",
       "      <td>0</td>\n",
       "      <td>2017-07-20 18:31:37</td>\n",
       "      <td>NaN</td>\n",
       "      <td>NaN</td>\n",
       "      <td>0</td>\n",
       "      <td>98bf0288ebcc46118ce11e651deb24a7</td>\n",
       "      <td>hcwf4avcmp8l53s5iq010pelwlce0041</td>\n",
       "      <td>2017-11-21 00:00:00</td>\n",
       "    </tr>\n",
       "    <tr>\n",
       "      <th>3</th>\n",
       "      <td>0001bd9da0ed4230a6c853bdfc7e7c74</td>\n",
       "      <td>1ba300886865420ba2f117906dc51f51</td>\n",
       "      <td>1ba300886865420ba2f117906dc51f51</td>\n",
       "      <td>2</td>\n",
       "      <td>3</td>\n",
       "      <td>8</td>\n",
       "      <td>13f97b02f7e4f2c9d35ec1af3c2d1003</td>\n",
       "      <td>NaN</td>\n",
       "      <td>NaN</td>\n",
       "      <td>NaN</td>\n",
       "      <td>...</td>\n",
       "      <td>NaN</td>\n",
       "      <td>0</td>\n",
       "      <td>0</td>\n",
       "      <td>2017-01-11 21:35:23</td>\n",
       "      <td>NaN</td>\n",
       "      <td>NaN</td>\n",
       "      <td>0</td>\n",
       "      <td>12ac683ebed044faa985e58b981c166d</td>\n",
       "      <td>hcwf4avcmp8l53s5iq010pelwlce000e</td>\n",
       "      <td>2017-11-21 00:00:00</td>\n",
       "    </tr>\n",
       "    <tr>\n",
       "      <th>4</th>\n",
       "      <td>0001bd9da0ed4230a6c853bdfc7e7c74</td>\n",
       "      <td>1ba300886865420ba2f117906dc51f51</td>\n",
       "      <td>1ba300886865420ba2f117906dc51f51</td>\n",
       "      <td>2</td>\n",
       "      <td>3</td>\n",
       "      <td>8</td>\n",
       "      <td>13f97b02f7e4f2c9d35ec1af3c2d1003</td>\n",
       "      <td>NaN</td>\n",
       "      <td>NaN</td>\n",
       "      <td>NaN</td>\n",
       "      <td>...</td>\n",
       "      <td>NaN</td>\n",
       "      <td>0</td>\n",
       "      <td>0</td>\n",
       "      <td>2017-01-11 21:35:23</td>\n",
       "      <td>NaN</td>\n",
       "      <td>NaN</td>\n",
       "      <td>0</td>\n",
       "      <td>9ebfed58e3294f85b68bd50ecded1a2b</td>\n",
       "      <td>hcwf4avcmp8l53s5iq010pelwlce000f</td>\n",
       "      <td>2017-11-21 00:00:00</td>\n",
       "    </tr>\n",
       "  </tbody>\n",
       "</table>\n",
       "<p>5 rows × 52 columns</p>\n",
       "</div>"
      ],
      "text/plain": [
       "                             que_id                         parent_id  \\\n",
       "0  0001a4509d9e4d069f5c651b816a80a6                                 0   \n",
       "1  0001a4509d9e4d069f5c651b816a80a6                                 0   \n",
       "2  0001a4509d9e4d069f5c651b816a80a6                                 0   \n",
       "3  0001bd9da0ed4230a6c853bdfc7e7c74  1ba300886865420ba2f117906dc51f51   \n",
       "4  0001bd9da0ed4230a6c853bdfc7e7c74  1ba300886865420ba2f117906dc51f51   \n",
       "\n",
       "                            root_id  subject_id  grade_group_id  qt_id  \\\n",
       "0                                 0           2               3      1   \n",
       "1                                 0           2               3      1   \n",
       "2                                 0           2               3      1   \n",
       "3  1ba300886865420ba2f117906dc51f51           2               3      8   \n",
       "4  1ba300886865420ba2f117906dc51f51           2               3      8   \n",
       "\n",
       "                             wqt_id  ks_id  mqt_ids  mqt_name  \\\n",
       "0  13f97b02f7e4f2c9d35ec1af3c2d1001    NaN      NaN       NaN   \n",
       "1  13f97b02f7e4f2c9d35ec1af3c2d1001    NaN      NaN       NaN   \n",
       "2  13f97b02f7e4f2c9d35ec1af3c2d1001    NaN      NaN       NaN   \n",
       "3  13f97b02f7e4f2c9d35ec1af3c2d1003    NaN      NaN       NaN   \n",
       "4  13f97b02f7e4f2c9d35ec1af3c2d1003    NaN      NaN       NaN   \n",
       "\n",
       "          ...           blank_answer blank_disponse is_private  \\\n",
       "0         ...                    NaN              0          0   \n",
       "1         ...                    NaN              0          0   \n",
       "2         ...                    NaN              0          0   \n",
       "3         ...                    NaN              0          0   \n",
       "4         ...                    NaN              0          0   \n",
       "\n",
       "          private_time dispose_person_id  order_id  is_init_know  \\\n",
       "0  2017-07-20 18:31:37               NaN       NaN             0   \n",
       "1  2017-07-20 18:31:37               NaN       NaN             0   \n",
       "2  2017-07-20 18:31:37               NaN       NaN             0   \n",
       "3  2017-01-11 21:35:23               NaN       NaN             0   \n",
       "4  2017-01-11 21:35:23               NaN       NaN             0   \n",
       "\n",
       "                                 id                             kh_id  \\\n",
       "0  4fea6a6f34e94f2b889146c489285301  hcwf4avcmp8l53s5iq010pelwlce0035   \n",
       "1  70d2715532ca4de7be29dcae14c011f8  1488a9f33b294046b0af671c20e5b370   \n",
       "2  98bf0288ebcc46118ce11e651deb24a7  hcwf4avcmp8l53s5iq010pelwlce0041   \n",
       "3  12ac683ebed044faa985e58b981c166d  hcwf4avcmp8l53s5iq010pelwlce000e   \n",
       "4  9ebfed58e3294f85b68bd50ecded1a2b  hcwf4avcmp8l53s5iq010pelwlce000f   \n",
       "\n",
       "           create_time  \n",
       "0  2017-11-21 00:00:00  \n",
       "1  2017-11-21 00:00:00  \n",
       "2  2017-11-21 00:00:00  \n",
       "3  2017-11-21 00:00:00  \n",
       "4  2017-11-21 00:00:00  \n",
       "\n",
       "[5 rows x 52 columns]"
      ]
     },
     "execution_count": 4,
     "metadata": {},
     "output_type": "execute_result"
    }
   ],
   "source": [
    "dl_merge=pd.merge(data,label,how='inner',on='que_id')\n",
    "dl_merge.head()"
   ]
  },
  {
   "cell_type": "code",
   "execution_count": 5,
   "metadata": {},
   "outputs": [],
   "source": [
    "df_kh=pd.read_csv('camp_dataset/data/knowledge_hierarchy.csv')\n",
    "df_kh.rename(columns={'id':'kh_id'}, inplace = True)\n",
    "#提取我们所关心的题目数据\n",
    "df_kh1=df_kh[df_kh['name']==\"三角函数与解三角形\"]\n",
    "df_kh2=df_kh[df_kh['name']==\"函数与导数\"]"
   ]
  },
  {
   "cell_type": "code",
   "execution_count": 6,
   "metadata": {},
   "outputs": [
    {
     "data": {
      "text/plain": [
       "Index(['kh_id', 'name', 'parent_id_x', 'degree', 'subject_id_x', 'grade_id',\n",
       "       'create_id', 'modify_id', 'create_time_x', 'modify_time', 'sort_x',\n",
       "       'sign', 'new_subject_id', 'root_id_x', 'que_id', 'parent_id_y',\n",
       "       'root_id_y', 'subject_id_y', 'grade_group_id', 'qt_id', 'wqt_id',\n",
       "       'ks_id', 'mqt_ids', 'mqt_name', 'voice_text', 'content', 'answer',\n",
       "       'analysis', 'key_word', 'difficulty', 'sort_y', 'state', 'conversion',\n",
       "       'mutual', 'mark', 'creater_id', 'create_date', 'modifier_id',\n",
       "       'modify_date', 'note', 'first_audit_time', 'first_auditor_id',\n",
       "       'first_auditor_name', 'second_audit_time', 'second_auditor_id',\n",
       "       'second_auditor_name', 'translatid_text', 'video_url', 'gif_url',\n",
       "       'reference_que_id', 'svg_mark', 'duplicate_flag', 'deprecated',\n",
       "       'bx_answer', 'que_creater_source', 'que_desc', 'blank_answer',\n",
       "       'blank_disponse', 'is_private', 'private_time', 'dispose_person_id',\n",
       "       'order_id', 'is_init_know', 'id', 'create_time_y'],\n",
       "      dtype='object')"
      ]
     },
     "execution_count": 6,
     "metadata": {},
     "output_type": "execute_result"
    }
   ],
   "source": [
    "#融合成含有三角函数的数据\n",
    "data_triangle_all=pd.merge(df_kh1,dl_merge,how='left',on='kh_id')\n",
    "data_triangle_all.columns"
   ]
  },
  {
   "cell_type": "code",
   "execution_count": 7,
   "metadata": {},
   "outputs": [
    {
     "data": {
      "text/html": [
       "<div>\n",
       "<style scoped>\n",
       "    .dataframe tbody tr th:only-of-type {\n",
       "        vertical-align: middle;\n",
       "    }\n",
       "\n",
       "    .dataframe tbody tr th {\n",
       "        vertical-align: top;\n",
       "    }\n",
       "\n",
       "    .dataframe thead th {\n",
       "        text-align: right;\n",
       "    }\n",
       "</style>\n",
       "<table border=\"1\" class=\"dataframe\">\n",
       "  <thead>\n",
       "    <tr style=\"text-align: right;\">\n",
       "      <th></th>\n",
       "      <th>kh_id</th>\n",
       "      <th>name</th>\n",
       "      <th>parent_id_x</th>\n",
       "      <th>degree</th>\n",
       "      <th>subject_id_x</th>\n",
       "      <th>grade_id</th>\n",
       "      <th>create_id</th>\n",
       "      <th>modify_id</th>\n",
       "      <th>create_time_x</th>\n",
       "      <th>modify_time</th>\n",
       "      <th>...</th>\n",
       "      <th>que_desc</th>\n",
       "      <th>blank_answer</th>\n",
       "      <th>blank_disponse</th>\n",
       "      <th>is_private</th>\n",
       "      <th>private_time</th>\n",
       "      <th>dispose_person_id</th>\n",
       "      <th>order_id</th>\n",
       "      <th>is_init_know</th>\n",
       "      <th>id</th>\n",
       "      <th>create_time_y</th>\n",
       "    </tr>\n",
       "  </thead>\n",
       "  <tbody>\n",
       "    <tr>\n",
       "      <th>0</th>\n",
       "      <td>hcwf4avcmp8l53s5iq010pelwlce000d</td>\n",
       "      <td>函数与导数</td>\n",
       "      <td>0</td>\n",
       "      <td>1</td>\n",
       "      <td>16.0</td>\n",
       "      <td>3</td>\n",
       "      <td>NaN</td>\n",
       "      <td>NaN</td>\n",
       "      <td>NaN</td>\n",
       "      <td>NaN</td>\n",
       "      <td>...</td>\n",
       "      <td>NaN</td>\n",
       "      <td>NaN</td>\n",
       "      <td>0</td>\n",
       "      <td>0</td>\n",
       "      <td>2017-01-11 21:35:23</td>\n",
       "      <td>NaN</td>\n",
       "      <td>NaN</td>\n",
       "      <td>0</td>\n",
       "      <td>e872555e30174dcd87761e4bb9d49466</td>\n",
       "      <td>2017-11-21 00:00:00</td>\n",
       "    </tr>\n",
       "    <tr>\n",
       "      <th>1</th>\n",
       "      <td>hcwf4avcmp8l53s5iq010pelwlce000d</td>\n",
       "      <td>函数与导数</td>\n",
       "      <td>0</td>\n",
       "      <td>1</td>\n",
       "      <td>16.0</td>\n",
       "      <td>3</td>\n",
       "      <td>NaN</td>\n",
       "      <td>NaN</td>\n",
       "      <td>NaN</td>\n",
       "      <td>NaN</td>\n",
       "      <td>...</td>\n",
       "      <td>NaN</td>\n",
       "      <td>NaN</td>\n",
       "      <td>0</td>\n",
       "      <td>0</td>\n",
       "      <td>2017-10-30 18:15:46</td>\n",
       "      <td>NaN</td>\n",
       "      <td>NaN</td>\n",
       "      <td>0</td>\n",
       "      <td>a975fe6cc7a24d75917f82725ed98bd3</td>\n",
       "      <td>2017-11-21 00:00:00</td>\n",
       "    </tr>\n",
       "    <tr>\n",
       "      <th>2</th>\n",
       "      <td>hcwf4avcmp8l53s5iq010pelwlce000d</td>\n",
       "      <td>函数与导数</td>\n",
       "      <td>0</td>\n",
       "      <td>1</td>\n",
       "      <td>16.0</td>\n",
       "      <td>3</td>\n",
       "      <td>NaN</td>\n",
       "      <td>NaN</td>\n",
       "      <td>NaN</td>\n",
       "      <td>NaN</td>\n",
       "      <td>...</td>\n",
       "      <td>NaN</td>\n",
       "      <td>{\"answer\":[{\"id\":0,\"content\":[{\"content\":\"$$\\\\...</td>\n",
       "      <td>1</td>\n",
       "      <td>0</td>\n",
       "      <td>2018-04-03 00:44:29</td>\n",
       "      <td>NaN</td>\n",
       "      <td>NaN</td>\n",
       "      <td>0</td>\n",
       "      <td>66d116fd856d48dd85bb75cb933dcb07</td>\n",
       "      <td>2018-04-03 00:44:28</td>\n",
       "    </tr>\n",
       "    <tr>\n",
       "      <th>3</th>\n",
       "      <td>hcwf4avcmp8l53s5iq010pelwlce000d</td>\n",
       "      <td>函数与导数</td>\n",
       "      <td>0</td>\n",
       "      <td>1</td>\n",
       "      <td>16.0</td>\n",
       "      <td>3</td>\n",
       "      <td>NaN</td>\n",
       "      <td>NaN</td>\n",
       "      <td>NaN</td>\n",
       "      <td>NaN</td>\n",
       "      <td>...</td>\n",
       "      <td>NaN</td>\n",
       "      <td>NaN</td>\n",
       "      <td>1</td>\n",
       "      <td>0</td>\n",
       "      <td>2017-11-30 18:20:57</td>\n",
       "      <td>NaN</td>\n",
       "      <td>NaN</td>\n",
       "      <td>0</td>\n",
       "      <td>76c44725ee6a43a0b82ddbc0493f5ea6</td>\n",
       "      <td>2017-11-30 18:20:56</td>\n",
       "    </tr>\n",
       "    <tr>\n",
       "      <th>4</th>\n",
       "      <td>hcwf4avcmp8l53s5iq010pelwlce000d</td>\n",
       "      <td>函数与导数</td>\n",
       "      <td>0</td>\n",
       "      <td>1</td>\n",
       "      <td>16.0</td>\n",
       "      <td>3</td>\n",
       "      <td>NaN</td>\n",
       "      <td>NaN</td>\n",
       "      <td>NaN</td>\n",
       "      <td>NaN</td>\n",
       "      <td>...</td>\n",
       "      <td>NaN</td>\n",
       "      <td>NaN</td>\n",
       "      <td>0</td>\n",
       "      <td>0</td>\n",
       "      <td>2017-10-22 14:16:33</td>\n",
       "      <td>NaN</td>\n",
       "      <td>NaN</td>\n",
       "      <td>0</td>\n",
       "      <td>cc926f40ceb24a3f8425bc9d3253b864</td>\n",
       "      <td>2017-11-21 00:00:00</td>\n",
       "    </tr>\n",
       "  </tbody>\n",
       "</table>\n",
       "<p>5 rows × 65 columns</p>\n",
       "</div>"
      ],
      "text/plain": [
       "                              kh_id   name parent_id_x  degree  subject_id_x  \\\n",
       "0  hcwf4avcmp8l53s5iq010pelwlce000d  函数与导数           0       1          16.0   \n",
       "1  hcwf4avcmp8l53s5iq010pelwlce000d  函数与导数           0       1          16.0   \n",
       "2  hcwf4avcmp8l53s5iq010pelwlce000d  函数与导数           0       1          16.0   \n",
       "3  hcwf4avcmp8l53s5iq010pelwlce000d  函数与导数           0       1          16.0   \n",
       "4  hcwf4avcmp8l53s5iq010pelwlce000d  函数与导数           0       1          16.0   \n",
       "\n",
       "   grade_id create_id modify_id create_time_x modify_time  \\\n",
       "0         3       NaN       NaN           NaN         NaN   \n",
       "1         3       NaN       NaN           NaN         NaN   \n",
       "2         3       NaN       NaN           NaN         NaN   \n",
       "3         3       NaN       NaN           NaN         NaN   \n",
       "4         3       NaN       NaN           NaN         NaN   \n",
       "\n",
       "          ...           que_desc  \\\n",
       "0         ...                NaN   \n",
       "1         ...                NaN   \n",
       "2         ...                NaN   \n",
       "3         ...                NaN   \n",
       "4         ...                NaN   \n",
       "\n",
       "                                        blank_answer  blank_disponse  \\\n",
       "0                                                NaN               0   \n",
       "1                                                NaN               0   \n",
       "2  {\"answer\":[{\"id\":0,\"content\":[{\"content\":\"$$\\\\...               1   \n",
       "3                                                NaN               1   \n",
       "4                                                NaN               0   \n",
       "\n",
       "  is_private         private_time dispose_person_id order_id  is_init_know  \\\n",
       "0          0  2017-01-11 21:35:23               NaN      NaN             0   \n",
       "1          0  2017-10-30 18:15:46               NaN      NaN             0   \n",
       "2          0  2018-04-03 00:44:29               NaN      NaN             0   \n",
       "3          0  2017-11-30 18:20:57               NaN      NaN             0   \n",
       "4          0  2017-10-22 14:16:33               NaN      NaN             0   \n",
       "\n",
       "                                 id        create_time_y  \n",
       "0  e872555e30174dcd87761e4bb9d49466  2017-11-21 00:00:00  \n",
       "1  a975fe6cc7a24d75917f82725ed98bd3  2017-11-21 00:00:00  \n",
       "2  66d116fd856d48dd85bb75cb933dcb07  2018-04-03 00:44:28  \n",
       "3  76c44725ee6a43a0b82ddbc0493f5ea6  2017-11-30 18:20:56  \n",
       "4  cc926f40ceb24a3f8425bc9d3253b864  2017-11-21 00:00:00  \n",
       "\n",
       "[5 rows x 65 columns]"
      ]
     },
     "execution_count": 7,
     "metadata": {},
     "output_type": "execute_result"
    }
   ],
   "source": [
    "#融合成含有函数题的数据\n",
    "data_function_all=pd.merge(df_kh2,dl_merge,how='left',on='kh_id')\n",
    "data_function_all.head()"
   ]
  },
  {
   "cell_type": "code",
   "execution_count": 8,
   "metadata": {},
   "outputs": [
    {
     "data": {
      "text/html": [
       "<div>\n",
       "<style scoped>\n",
       "    .dataframe tbody tr th:only-of-type {\n",
       "        vertical-align: middle;\n",
       "    }\n",
       "\n",
       "    .dataframe tbody tr th {\n",
       "        vertical-align: top;\n",
       "    }\n",
       "\n",
       "    .dataframe thead th {\n",
       "        text-align: right;\n",
       "    }\n",
       "</style>\n",
       "<table border=\"1\" class=\"dataframe\">\n",
       "  <thead>\n",
       "    <tr style=\"text-align: right;\">\n",
       "      <th></th>\n",
       "      <th>kh_id</th>\n",
       "      <th>name</th>\n",
       "      <th>parent_id_x</th>\n",
       "      <th>degree</th>\n",
       "      <th>subject_id_x</th>\n",
       "      <th>grade_id</th>\n",
       "      <th>create_id</th>\n",
       "      <th>modify_id</th>\n",
       "      <th>create_time_x</th>\n",
       "      <th>modify_time</th>\n",
       "      <th>...</th>\n",
       "      <th>que_desc</th>\n",
       "      <th>blank_answer</th>\n",
       "      <th>blank_disponse</th>\n",
       "      <th>is_private</th>\n",
       "      <th>private_time</th>\n",
       "      <th>dispose_person_id</th>\n",
       "      <th>order_id</th>\n",
       "      <th>is_init_know</th>\n",
       "      <th>id</th>\n",
       "      <th>create_time_y</th>\n",
       "    </tr>\n",
       "  </thead>\n",
       "  <tbody>\n",
       "    <tr>\n",
       "      <th>0</th>\n",
       "      <td>hcwf4avcmp8l53s5iq010pelwlce000d</td>\n",
       "      <td>函数与导数</td>\n",
       "      <td>0</td>\n",
       "      <td>1</td>\n",
       "      <td>16.0</td>\n",
       "      <td>3</td>\n",
       "      <td>NaN</td>\n",
       "      <td>NaN</td>\n",
       "      <td>NaN</td>\n",
       "      <td>NaN</td>\n",
       "      <td>...</td>\n",
       "      <td>NaN</td>\n",
       "      <td>NaN</td>\n",
       "      <td>0</td>\n",
       "      <td>0</td>\n",
       "      <td>2017-01-11 21:35:23</td>\n",
       "      <td>NaN</td>\n",
       "      <td>NaN</td>\n",
       "      <td>0</td>\n",
       "      <td>e872555e30174dcd87761e4bb9d49466</td>\n",
       "      <td>2017-11-21 00:00:00</td>\n",
       "    </tr>\n",
       "    <tr>\n",
       "      <th>1</th>\n",
       "      <td>hcwf4avcmp8l53s5iq010pelwlce000d</td>\n",
       "      <td>函数与导数</td>\n",
       "      <td>0</td>\n",
       "      <td>1</td>\n",
       "      <td>16.0</td>\n",
       "      <td>3</td>\n",
       "      <td>NaN</td>\n",
       "      <td>NaN</td>\n",
       "      <td>NaN</td>\n",
       "      <td>NaN</td>\n",
       "      <td>...</td>\n",
       "      <td>NaN</td>\n",
       "      <td>NaN</td>\n",
       "      <td>0</td>\n",
       "      <td>0</td>\n",
       "      <td>2017-10-30 18:15:46</td>\n",
       "      <td>NaN</td>\n",
       "      <td>NaN</td>\n",
       "      <td>0</td>\n",
       "      <td>a975fe6cc7a24d75917f82725ed98bd3</td>\n",
       "      <td>2017-11-21 00:00:00</td>\n",
       "    </tr>\n",
       "    <tr>\n",
       "      <th>2</th>\n",
       "      <td>hcwf4avcmp8l53s5iq010pelwlce000d</td>\n",
       "      <td>函数与导数</td>\n",
       "      <td>0</td>\n",
       "      <td>1</td>\n",
       "      <td>16.0</td>\n",
       "      <td>3</td>\n",
       "      <td>NaN</td>\n",
       "      <td>NaN</td>\n",
       "      <td>NaN</td>\n",
       "      <td>NaN</td>\n",
       "      <td>...</td>\n",
       "      <td>NaN</td>\n",
       "      <td>{\"answer\":[{\"id\":0,\"content\":[{\"content\":\"$$\\\\...</td>\n",
       "      <td>1</td>\n",
       "      <td>0</td>\n",
       "      <td>2018-04-03 00:44:29</td>\n",
       "      <td>NaN</td>\n",
       "      <td>NaN</td>\n",
       "      <td>0</td>\n",
       "      <td>66d116fd856d48dd85bb75cb933dcb07</td>\n",
       "      <td>2018-04-03 00:44:28</td>\n",
       "    </tr>\n",
       "    <tr>\n",
       "      <th>3</th>\n",
       "      <td>hcwf4avcmp8l53s5iq010pelwlce000d</td>\n",
       "      <td>函数与导数</td>\n",
       "      <td>0</td>\n",
       "      <td>1</td>\n",
       "      <td>16.0</td>\n",
       "      <td>3</td>\n",
       "      <td>NaN</td>\n",
       "      <td>NaN</td>\n",
       "      <td>NaN</td>\n",
       "      <td>NaN</td>\n",
       "      <td>...</td>\n",
       "      <td>NaN</td>\n",
       "      <td>NaN</td>\n",
       "      <td>1</td>\n",
       "      <td>0</td>\n",
       "      <td>2017-11-30 18:20:57</td>\n",
       "      <td>NaN</td>\n",
       "      <td>NaN</td>\n",
       "      <td>0</td>\n",
       "      <td>76c44725ee6a43a0b82ddbc0493f5ea6</td>\n",
       "      <td>2017-11-30 18:20:56</td>\n",
       "    </tr>\n",
       "    <tr>\n",
       "      <th>4</th>\n",
       "      <td>hcwf4avcmp8l53s5iq010pelwlce000d</td>\n",
       "      <td>函数与导数</td>\n",
       "      <td>0</td>\n",
       "      <td>1</td>\n",
       "      <td>16.0</td>\n",
       "      <td>3</td>\n",
       "      <td>NaN</td>\n",
       "      <td>NaN</td>\n",
       "      <td>NaN</td>\n",
       "      <td>NaN</td>\n",
       "      <td>...</td>\n",
       "      <td>NaN</td>\n",
       "      <td>NaN</td>\n",
       "      <td>0</td>\n",
       "      <td>0</td>\n",
       "      <td>2017-10-22 14:16:33</td>\n",
       "      <td>NaN</td>\n",
       "      <td>NaN</td>\n",
       "      <td>0</td>\n",
       "      <td>cc926f40ceb24a3f8425bc9d3253b864</td>\n",
       "      <td>2017-11-21 00:00:00</td>\n",
       "    </tr>\n",
       "  </tbody>\n",
       "</table>\n",
       "<p>5 rows × 65 columns</p>\n",
       "</div>"
      ],
      "text/plain": [
       "                              kh_id   name parent_id_x  degree  subject_id_x  \\\n",
       "0  hcwf4avcmp8l53s5iq010pelwlce000d  函数与导数           0       1          16.0   \n",
       "1  hcwf4avcmp8l53s5iq010pelwlce000d  函数与导数           0       1          16.0   \n",
       "2  hcwf4avcmp8l53s5iq010pelwlce000d  函数与导数           0       1          16.0   \n",
       "3  hcwf4avcmp8l53s5iq010pelwlce000d  函数与导数           0       1          16.0   \n",
       "4  hcwf4avcmp8l53s5iq010pelwlce000d  函数与导数           0       1          16.0   \n",
       "\n",
       "   grade_id create_id modify_id create_time_x modify_time  \\\n",
       "0         3       NaN       NaN           NaN         NaN   \n",
       "1         3       NaN       NaN           NaN         NaN   \n",
       "2         3       NaN       NaN           NaN         NaN   \n",
       "3         3       NaN       NaN           NaN         NaN   \n",
       "4         3       NaN       NaN           NaN         NaN   \n",
       "\n",
       "          ...           que_desc  \\\n",
       "0         ...                NaN   \n",
       "1         ...                NaN   \n",
       "2         ...                NaN   \n",
       "3         ...                NaN   \n",
       "4         ...                NaN   \n",
       "\n",
       "                                        blank_answer  blank_disponse  \\\n",
       "0                                                NaN               0   \n",
       "1                                                NaN               0   \n",
       "2  {\"answer\":[{\"id\":0,\"content\":[{\"content\":\"$$\\\\...               1   \n",
       "3                                                NaN               1   \n",
       "4                                                NaN               0   \n",
       "\n",
       "  is_private         private_time dispose_person_id order_id  is_init_know  \\\n",
       "0          0  2017-01-11 21:35:23               NaN      NaN             0   \n",
       "1          0  2017-10-30 18:15:46               NaN      NaN             0   \n",
       "2          0  2018-04-03 00:44:29               NaN      NaN             0   \n",
       "3          0  2017-11-30 18:20:57               NaN      NaN             0   \n",
       "4          0  2017-10-22 14:16:33               NaN      NaN             0   \n",
       "\n",
       "                                 id        create_time_y  \n",
       "0  e872555e30174dcd87761e4bb9d49466  2017-11-21 00:00:00  \n",
       "1  a975fe6cc7a24d75917f82725ed98bd3  2017-11-21 00:00:00  \n",
       "2  66d116fd856d48dd85bb75cb933dcb07  2018-04-03 00:44:28  \n",
       "3  76c44725ee6a43a0b82ddbc0493f5ea6  2017-11-30 18:20:56  \n",
       "4  cc926f40ceb24a3f8425bc9d3253b864  2017-11-21 00:00:00  \n",
       "\n",
       "[5 rows x 65 columns]"
      ]
     },
     "execution_count": 8,
     "metadata": {},
     "output_type": "execute_result"
    }
   ],
   "source": [
    "data_function_all.head()"
   ]
  },
  {
   "cell_type": "markdown",
   "metadata": {},
   "source": [
    "### 编程练习\n",
    "你需要从data和label中获取“三角函数与解三角形”和“函数与导数”的数据"
   ]
  },
  {
   "cell_type": "code",
   "execution_count": 9,
   "metadata": {},
   "outputs": [],
   "source": [
    "#删去多余的列\n",
    "data_triangle_all.drop(['parent_id_x', 'degree', 'subject_id_x', 'grade_id',\n",
    "       'create_id', 'modify_id', 'create_time_x', 'modify_time', 'sort_x',\n",
    "       'sign', 'new_subject_id', 'root_id_x', 'parent_id_y',\n",
    "       'root_id_y', 'subject_id_y', 'grade_group_id', 'qt_id', 'wqt_id',\n",
    "       'ks_id', 'mqt_ids', 'mqt_name', 'voice_text',  'key_word', 'difficulty', 'sort_y', 'state', 'conversion',\n",
    "       'mutual', 'mark', 'creater_id', 'create_date', 'modifier_id',\n",
    "       'modify_date', 'note', 'first_audit_time', 'first_auditor_id',\n",
    "       'first_auditor_name', 'second_audit_time', 'second_auditor_id',\n",
    "       'second_auditor_name', 'translatid_text', 'video_url', 'gif_url',\n",
    "       'reference_que_id', 'svg_mark', 'duplicate_flag', 'deprecated',\n",
    "       'bx_answer', 'que_creater_source', 'que_desc', 'blank_answer',\n",
    "       'blank_disponse', 'is_private', 'private_time', 'dispose_person_id',\n",
    "       'order_id', 'is_init_know', 'id', 'create_time_y'],axis=1,inplace=True)\n",
    "data_function_all.drop(['parent_id_x', 'degree', 'subject_id_x', 'grade_id',\n",
    "       'create_id', 'modify_id', 'create_time_x', 'modify_time', 'sort_x',\n",
    "       'sign', 'new_subject_id', 'root_id_x', 'parent_id_y',\n",
    "       'root_id_y', 'subject_id_y', 'grade_group_id', 'qt_id', 'wqt_id',\n",
    "       'ks_id', 'mqt_ids', 'mqt_name', 'voice_text',  'key_word', 'difficulty', 'sort_y', 'state', 'conversion',\n",
    "       'mutual', 'mark', 'creater_id', 'create_date', 'modifier_id',\n",
    "       'modify_date', 'note', 'first_audit_time', 'first_auditor_id',\n",
    "       'first_auditor_name', 'second_audit_time', 'second_auditor_id',\n",
    "       'second_auditor_name', 'translatid_text', 'video_url', 'gif_url',\n",
    "       'reference_que_id', 'svg_mark', 'duplicate_flag', 'deprecated',\n",
    "       'bx_answer', 'que_creater_source', 'que_desc', 'blank_answer',\n",
    "       'blank_disponse', 'is_private', 'private_time', 'dispose_person_id',\n",
    "       'order_id', 'is_init_know', 'id', 'create_time_y'],axis=1,inplace=True)\n"
   ]
  },
  {
   "cell_type": "code",
   "execution_count": 10,
   "metadata": {},
   "outputs": [],
   "source": [
    "#将data_triangle(三角函数与解三角形),data_function(函数与导数)分别赋值\n",
    "data_triangle=data_triangle_all.copy()\n",
    "data_function=data_function_all.copy()"
   ]
  },
  {
   "cell_type": "code",
   "execution_count": 11,
   "metadata": {},
   "outputs": [
    {
     "data": {
      "text/html": [
       "<div>\n",
       "<style scoped>\n",
       "    .dataframe tbody tr th:only-of-type {\n",
       "        vertical-align: middle;\n",
       "    }\n",
       "\n",
       "    .dataframe tbody tr th {\n",
       "        vertical-align: top;\n",
       "    }\n",
       "\n",
       "    .dataframe thead th {\n",
       "        text-align: right;\n",
       "    }\n",
       "</style>\n",
       "<table border=\"1\" class=\"dataframe\">\n",
       "  <thead>\n",
       "    <tr style=\"text-align: right;\">\n",
       "      <th></th>\n",
       "      <th>kh_id</th>\n",
       "      <th>name</th>\n",
       "      <th>que_id</th>\n",
       "      <th>content</th>\n",
       "      <th>answer</th>\n",
       "      <th>analysis</th>\n",
       "    </tr>\n",
       "  </thead>\n",
       "  <tbody>\n",
       "    <tr>\n",
       "      <th>0</th>\n",
       "      <td>hcwf4avcmp8l53s5iq010pelwlce0035</td>\n",
       "      <td>三角函数与解三角形</td>\n",
       "      <td>0001a4509d9e4d069f5c651b816a80a6</td>\n",
       "      <td>&lt;p&gt;在$$\\triangle ABC$$中，$$AB=\\sqrt{3}$$，$$AC=1$...</td>\n",
       "      <td>B</td>\n",
       "      <td>&lt;p&gt;$${{S}_{\\triangle ABC}}=\\frac{1}{2}\\times A...</td>\n",
       "    </tr>\n",
       "    <tr>\n",
       "      <th>1</th>\n",
       "      <td>hcwf4avcmp8l53s5iq010pelwlce0035</td>\n",
       "      <td>三角函数与解三角形</td>\n",
       "      <td>0018a4cb687d46fb81b047f1b35e27e4</td>\n",
       "      <td>&lt;p&gt;$$\\cos \\alpha +\\frac{1}{\\sin \\alpha }$$；&lt;/p&gt;</td>\n",
       "      <td>&lt;p&gt;$$k \\pi (k\\in \\mathbf{Z})$$．&lt;/p&gt;</td>\n",
       "      <td>NaN</td>\n",
       "    </tr>\n",
       "    <tr>\n",
       "      <th>2</th>\n",
       "      <td>hcwf4avcmp8l53s5iq010pelwlce0035</td>\n",
       "      <td>三角函数与解三角形</td>\n",
       "      <td>0018feec97e246adb1ccdb0a0bc22bef</td>\n",
       "      <td>&lt;p&gt;若$$\\theta \\in \\left( 0,\\frac{ \\pi }{2} \\rig...</td>\n",
       "      <td>&lt;p&gt;见解析．&lt;/p&gt;</td>\n",
       "      <td>&lt;p&gt;∵$$f(\\theta )=\\frac{1}{2}$$，&lt;/p&gt;\\r\\n&lt;p&gt;&amp;the...</td>\n",
       "    </tr>\n",
       "    <tr>\n",
       "      <th>3</th>\n",
       "      <td>hcwf4avcmp8l53s5iq010pelwlce0035</td>\n",
       "      <td>三角函数与解三角形</td>\n",
       "      <td>001bfaffc89a4d3490b5528fd9cf802c</td>\n",
       "      <td>&lt;p&gt;已知函数$$f(x)={{\\sin }^{2}}2x+\\sqrt{3}\\sin 2x\\...</td>\n",
       "      <td>NaN</td>\n",
       "      <td>NaN</td>\n",
       "    </tr>\n",
       "    <tr>\n",
       "      <th>4</th>\n",
       "      <td>hcwf4avcmp8l53s5iq010pelwlce0035</td>\n",
       "      <td>三角函数与解三角形</td>\n",
       "      <td>001d97674fae40209f82cb33a12ce6a3</td>\n",
       "      <td>&lt;p&gt;若曲线$$f(x,y)=0$$上两个不同处的切线重合，则称这条切线为曲线$$f(x,y...</td>\n",
       "      <td>B</td>\n",
       "      <td>&lt;p&gt;根据&amp;ldquo;自公切线&amp;rdquo;的定义知，过曲线外一点作曲线的切线，该切线与曲...</td>\n",
       "    </tr>\n",
       "  </tbody>\n",
       "</table>\n",
       "</div>"
      ],
      "text/plain": [
       "                              kh_id       name  \\\n",
       "0  hcwf4avcmp8l53s5iq010pelwlce0035  三角函数与解三角形   \n",
       "1  hcwf4avcmp8l53s5iq010pelwlce0035  三角函数与解三角形   \n",
       "2  hcwf4avcmp8l53s5iq010pelwlce0035  三角函数与解三角形   \n",
       "3  hcwf4avcmp8l53s5iq010pelwlce0035  三角函数与解三角形   \n",
       "4  hcwf4avcmp8l53s5iq010pelwlce0035  三角函数与解三角形   \n",
       "\n",
       "                             que_id  \\\n",
       "0  0001a4509d9e4d069f5c651b816a80a6   \n",
       "1  0018a4cb687d46fb81b047f1b35e27e4   \n",
       "2  0018feec97e246adb1ccdb0a0bc22bef   \n",
       "3  001bfaffc89a4d3490b5528fd9cf802c   \n",
       "4  001d97674fae40209f82cb33a12ce6a3   \n",
       "\n",
       "                                             content  \\\n",
       "0  <p>在$$\\triangle ABC$$中，$$AB=\\sqrt{3}$$，$$AC=1$...   \n",
       "1    <p>$$\\cos \\alpha +\\frac{1}{\\sin \\alpha }$$；</p>   \n",
       "2  <p>若$$\\theta \\in \\left( 0,\\frac{ \\pi }{2} \\rig...   \n",
       "3  <p>已知函数$$f(x)={{\\sin }^{2}}2x+\\sqrt{3}\\sin 2x\\...   \n",
       "4  <p>若曲线$$f(x,y)=0$$上两个不同处的切线重合，则称这条切线为曲线$$f(x,y...   \n",
       "\n",
       "                                answer  \\\n",
       "0                                    B   \n",
       "1  <p>$$k \\pi (k\\in \\mathbf{Z})$$．</p>   \n",
       "2                          <p>见解析．</p>   \n",
       "3                                  NaN   \n",
       "4                                    B   \n",
       "\n",
       "                                            analysis  \n",
       "0  <p>$${{S}_{\\triangle ABC}}=\\frac{1}{2}\\times A...  \n",
       "1                                                NaN  \n",
       "2  <p>∵$$f(\\theta )=\\frac{1}{2}$$，</p>\\r\\n<p>&the...  \n",
       "3                                                NaN  \n",
       "4  <p>根据&ldquo;自公切线&rdquo;的定义知，过曲线外一点作曲线的切线，该切线与曲...  "
      ]
     },
     "execution_count": 11,
     "metadata": {},
     "output_type": "execute_result"
    }
   ],
   "source": [
    "#探索数据，打印出data_triangle和data_function的部分题目\n",
    "data_triangle.head()"
   ]
  },
  {
   "cell_type": "code",
   "execution_count": 12,
   "metadata": {},
   "outputs": [
    {
     "data": {
      "text/html": [
       "<div>\n",
       "<style scoped>\n",
       "    .dataframe tbody tr th:only-of-type {\n",
       "        vertical-align: middle;\n",
       "    }\n",
       "\n",
       "    .dataframe tbody tr th {\n",
       "        vertical-align: top;\n",
       "    }\n",
       "\n",
       "    .dataframe thead th {\n",
       "        text-align: right;\n",
       "    }\n",
       "</style>\n",
       "<table border=\"1\" class=\"dataframe\">\n",
       "  <thead>\n",
       "    <tr style=\"text-align: right;\">\n",
       "      <th></th>\n",
       "      <th>kh_id</th>\n",
       "      <th>name</th>\n",
       "      <th>que_id</th>\n",
       "      <th>content</th>\n",
       "      <th>answer</th>\n",
       "      <th>analysis</th>\n",
       "    </tr>\n",
       "  </thead>\n",
       "  <tbody>\n",
       "    <tr>\n",
       "      <th>0</th>\n",
       "      <td>hcwf4avcmp8l53s5iq010pelwlce000d</td>\n",
       "      <td>函数与导数</td>\n",
       "      <td>0001bd9da0ed4230a6c853bdfc7e7c74</td>\n",
       "      <td>&lt;p&gt;问函数$$\\phi \\left( x \\right)=\\sqrt{\\frac{a}{{...</td>\n",
       "      <td>&lt;p&gt;能，$$a$$的取值范围是$$[15-10\\sqrt{2},15+10\\sqrt{2}...</td>\n",
       "      <td>&lt;p&gt;由题意，$$a&amp;gt;0$$，$$D=\\mathbf{R}$$．存在实数$${{x}_...</td>\n",
       "    </tr>\n",
       "    <tr>\n",
       "      <th>1</th>\n",
       "      <td>hcwf4avcmp8l53s5iq010pelwlce000d</td>\n",
       "      <td>函数与导数</td>\n",
       "      <td>000297a6dffb4d31a62f36cd5206441b</td>\n",
       "      <td>&lt;p&gt;某投资公司计划投资$$A$$，$$B$$两种金融产品，根据市场调查与预测，$$A$$产...</td>\n",
       "      <td>NaN</td>\n",
       "      <td>NaN</td>\n",
       "    </tr>\n",
       "    <tr>\n",
       "      <th>2</th>\n",
       "      <td>hcwf4avcmp8l53s5iq010pelwlce000d</td>\n",
       "      <td>函数与导数</td>\n",
       "      <td>0003eb6743e54fd3a6fa57168654afb8</td>\n",
       "      <td>&lt;p&gt;函数$$f\\left( x \\right)=\\sqrt{4-{{2}^{k}}}+\\s...</td>\n",
       "      <td>$$\\left[ 0,2 \\right]$$</td>\n",
       "      <td>&lt;p&gt;$$\\begin{cases}4-{{2}^{x}}\\geqslant 0 \\\\ x\\...</td>\n",
       "    </tr>\n",
       "    <tr>\n",
       "      <th>3</th>\n",
       "      <td>hcwf4avcmp8l53s5iq010pelwlce000d</td>\n",
       "      <td>函数与导数</td>\n",
       "      <td>0006d09c14514f28ab6fcf8484cdb10b</td>\n",
       "      <td>&lt;p&gt;若函数$$f(x)(x\\in \\mathbf{R})$$是周期为$$4$$的奇函数，且...</td>\n",
       "      <td>C</td>\n",
       "      <td>&lt;p&gt;依题意得$$f\\left( \\frac{29}{4} \\right)=f\\left( ...</td>\n",
       "    </tr>\n",
       "    <tr>\n",
       "      <th>4</th>\n",
       "      <td>hcwf4avcmp8l53s5iq010pelwlce000d</td>\n",
       "      <td>函数与导数</td>\n",
       "      <td>00073bb01b63495f807cd169a862d94e</td>\n",
       "      <td>&lt;p&gt;过坐标原点$$O$$作曲线$$y=f(x)$$的切线，求切线的横坐标．&lt;/p&gt;</td>\n",
       "      <td>&lt;p&gt;$$1$$．&lt;/p&gt;</td>\n",
       "      <td>&lt;p&gt;不妨设$$tP$$点为$$M(t,f(t))$$，$${{f}^{\\prime }}(...</td>\n",
       "    </tr>\n",
       "  </tbody>\n",
       "</table>\n",
       "</div>"
      ],
      "text/plain": [
       "                              kh_id   name                            que_id  \\\n",
       "0  hcwf4avcmp8l53s5iq010pelwlce000d  函数与导数  0001bd9da0ed4230a6c853bdfc7e7c74   \n",
       "1  hcwf4avcmp8l53s5iq010pelwlce000d  函数与导数  000297a6dffb4d31a62f36cd5206441b   \n",
       "2  hcwf4avcmp8l53s5iq010pelwlce000d  函数与导数  0003eb6743e54fd3a6fa57168654afb8   \n",
       "3  hcwf4avcmp8l53s5iq010pelwlce000d  函数与导数  0006d09c14514f28ab6fcf8484cdb10b   \n",
       "4  hcwf4avcmp8l53s5iq010pelwlce000d  函数与导数  00073bb01b63495f807cd169a862d94e   \n",
       "\n",
       "                                             content  \\\n",
       "0  <p>问函数$$\\phi \\left( x \\right)=\\sqrt{\\frac{a}{{...   \n",
       "1  <p>某投资公司计划投资$$A$$，$$B$$两种金融产品，根据市场调查与预测，$$A$$产...   \n",
       "2  <p>函数$$f\\left( x \\right)=\\sqrt{4-{{2}^{k}}}+\\s...   \n",
       "3  <p>若函数$$f(x)(x\\in \\mathbf{R})$$是周期为$$4$$的奇函数，且...   \n",
       "4         <p>过坐标原点$$O$$作曲线$$y=f(x)$$的切线，求切线的横坐标．</p>   \n",
       "\n",
       "                                              answer  \\\n",
       "0  <p>能，$$a$$的取值范围是$$[15-10\\sqrt{2},15+10\\sqrt{2}...   \n",
       "1                                                NaN   \n",
       "2                             $$\\left[ 0,2 \\right]$$   \n",
       "3                                                  C   \n",
       "4                                      <p>$$1$$．</p>   \n",
       "\n",
       "                                            analysis  \n",
       "0  <p>由题意，$$a&gt;0$$，$$D=\\mathbf{R}$$．存在实数$${{x}_...  \n",
       "1                                                NaN  \n",
       "2  <p>$$\\begin{cases}4-{{2}^{x}}\\geqslant 0 \\\\ x\\...  \n",
       "3  <p>依题意得$$f\\left( \\frac{29}{4} \\right)=f\\left( ...  \n",
       "4  <p>不妨设$$tP$$点为$$M(t,f(t))$$，$${{f}^{\\prime }}(...  "
      ]
     },
     "execution_count": 12,
     "metadata": {},
     "output_type": "execute_result"
    }
   ],
   "source": [
    "data_function.head()"
   ]
  },
  {
   "cell_type": "markdown",
   "metadata": {},
   "source": [
    "## 步骤二：清洗题目数据和特征工程\n",
    "\n",
    "\n",
    "原题目的样子如下：\n",
    "\n",
    "\n",
    "<img src=\"img1.png\" style=\"width:700px;height:100px;float:left\">\n",
    "\n",
    "~~~\n",
    "\n",
    "\n",
    "\n",
    "\n",
    "\n",
    " **题目含义**\n",
    "- ‘$’符号表示latex语法\n",
    "- <／p>表示html语法\n",
    "- <／img>表示是否插入有图片，后面跟着图片的地址\n",
    "\n",
    "**过滤方法：**\n",
    "\n",
    "- 使用re正则表达式过滤掉中文。\n",
    "- 从latex语法中保留部分代码\n",
    "- 记录题目是否有图片\n",
    "\n",
    "参考资料：正则表达式学习资料\n",
    "\n",
    "[什么是正则表达](http://www.runoob.com/python/python-reg-expressions.html)\n",
    "\n",
    "[正则表达语法汇总](http://www.runoob.com/python/python-reg-expressions.html)\n",
    "\n",
    "[Python正则表达式匹配反斜杠'\\'问题](https://www.cnblogs.com/mzc1997/p/7689235.html)"
   ]
  },
  {
   "cell_type": "code",
   "execution_count": 13,
   "metadata": {
    "scrolled": false
   },
   "outputs": [
    {
     "name": "stderr",
     "output_type": "stream",
     "text": [
      "Building prefix dict from the default dictionary ...\n",
      "Dumping model to file cache /var/folders/_s/zh4ppb_97hj9n3yvdbfldb7m0000gn/T/jieba.cache\n",
      "Loading model cost 1.220 seconds.\n",
      "Prefix dict has been built succesfully.\n"
     ]
    }
   ],
   "source": [
    "## 请不要修改下方代码\n",
    "import re#导入re库\n",
    "import jieba#导入jieba库\n",
    "math_words = ['Delta','angle','arccos','arcsin','arctan','bar','bot','cap','cdot','centerdot','circ','cos','cup','dfrac','exists','forall','frac','frown','grave','infty','int','lg','lim','ln','log','max','min','neg','odot','oplus','otimes','overline','partial','pi','prime','prod','sec','csc','sin','subset','subseteq','subsetneqq','supseteq','tan','triangle','tfrac','wedge','widehat','vee']#定义一个列表，包含与标签相关的文本词\n",
    "zh_pattern = re.compile(u'[\\u4e00-\\u9fa5]+')#编译正则表达式，至少匹配一个汉字（u4e00,u9fa5分别是unicode表中汉字范围的第一个和最后一个，‘【】’表示里面的值出现一次即可，‘+’表示至少出现一次）\n",
    "img_pattern = re.compile(u'<img')#编译正则表达式，匹配img格式\n",
    "math_pattern = re.compile(u'\\\\\\\\([a-zA-Z]+)')#编译正则表达式，匹配反斜杠和全部大小写字母\n",
    "stop_word = pd.read_csv('stopwords-master/中文停用词表.txt',header=None)#导入中文停用词表文件\n",
    "stop_word = stop_word.values.reshape(-1)#可以理解为转置，将dataframe转化成一维数组\n",
    "stop_word = [stop.encode('utf8') for stop in stop_word]#将stop_word里的汉字和数字以及标点符号解码（按照utf8的编码）\n",
    "stop_word.append(' ')#在数组末尾加上空格\n",
    "def extract_words(word):#定义一个名为extract_words的函数\n",
    "    zh_word = re.findall(zh_pattern,word)#返回word中存在的所有汉字\n",
    "    img_word = re.findall(img_pattern,word)#返回word中存在的img（图片）\n",
    "    math_word = re.findall(math_pattern,word)#返回word中所有的大小写字母和反斜杠\n",
    "    math_word = [char for char in math_word if char  in math_words]#保留同时存在在math_word和math_words里的字符串\n",
    "    lst=jieba.cut(' '.join(zh_word))#利用jieba库将有实际意义的中文词用空格隔开\n",
    "    final_word = [char for char in lst if char not in stop_word]+img_word+math_word#把停用词（无用词）删去，连接上图片和数学词（英文）\n",
    "    return  ' '.join(final_word)#返回空格隔开的final_word\n",
    "tri_data = data_triangle.content.apply(lambda x:extract_words(x))#对data_triangle运用上述定义的函数\n",
    "fun_data = data_function.content.apply(lambda x:extract_words(x))#对data_function运用上述定义的函数"
   ]
  },
  {
   "cell_type": "code",
   "execution_count": 87,
   "metadata": {},
   "outputs": [
    {
     "name": "stdout",
     "output_type": "stream",
     "text": [
      "{'theta', 'begin', 'omega', 'p', 'sqrt', 'rig', 'circ', 'ri', 'f', 'in', 'mathbf', 'left', 'l', 'frac', 'cos', 'leqslant', 'log', 'phi', 's', 'sq', 'right', 'mat', 'ne', 'ln', 'infty', 't', 'forall', 'cdot', 'pi', 'fr', 'n', 'tan', 'geqslant', 'triangle', 'sin', 'r', 'alpha', 'text'}\n"
     ]
    }
   ],
   "source": [
    "#找出所有的\\XXX \n",
    "math_word1=re.findall(math_pattern,str(data_triangle_all.content))\n",
    "math_word2=re.findall(math_pattern,str(data_function_all.content))\n",
    "print(set(math_word1+math_word2))\n",
    "#注：因为上面的math——words中的符号跟我们目的的三角函数题目和函数与导数有极大的相关性，可以利用内容里包含的这些数学符号对题目所属的种类进行准确的判断。\n",
    "### TODO：这样数据清洗和过滤的原因。\n",
    "#清除那些对我们目的无帮助的汉字，数字和标点符号，留下那些有实义的汉字，和数学符号和图片，方便我们利用这些特征对题目所属的种类进行预测和分类。"
   ]
  },
  {
   "cell_type": "markdown",
   "metadata": {},
   "source": [
    "## 步骤三：生成样本数据和标签\n",
    "\n",
    "经过对数据的探索，你会发现有如下问题：\n",
    "\n",
    "1. “三角函数与解三角形”和“函数与导数”的知识点的题目数据是有交集的，即有的题目即属于“三角函数与解三角形”也属于“函数与导数”，我们需要过滤掉交集部分。\n",
    "2. 清洗数据后可能存在空字符串数据，所以需要过滤掉空字符串数据。\n",
    "\n",
    "<img src=\"img2.png\" style=\"width:500px;height:200px;float:left\">"
   ]
  },
  {
   "cell_type": "code",
   "execution_count": 15,
   "metadata": {},
   "outputs": [],
   "source": [
    "##TODO：df_all如上图所示\n",
    "data_triangle['content']=tri_data\n",
    "data_function['content']=fun_data"
   ]
  },
  {
   "cell_type": "code",
   "execution_count": 16,
   "metadata": {},
   "outputs": [],
   "source": [
    "list1=data_triangle['que_id'].values.reshape(-1)\n",
    "list2=data_function['que_id'].values.reshape(-1)\n",
    "list_repeat=[]\n",
    "for i in list1:\n",
    "    if i in list2:\n",
    "        list_repeat.append(i)#选择出交集部分"
   ]
  },
  {
   "cell_type": "code",
   "execution_count": 17,
   "metadata": {},
   "outputs": [
    {
     "data": {
      "text/plain": [
       "1642"
      ]
     },
     "execution_count": 17,
     "metadata": {},
     "output_type": "execute_result"
    }
   ],
   "source": [
    "len(list_repeat)#看交集的个数有多少，决定采取怎样的过滤方式"
   ]
  },
  {
   "cell_type": "code",
   "execution_count": 18,
   "metadata": {},
   "outputs": [],
   "source": [
    "data_triangle=data_triangle[~data_triangle['que_id'].isin(list_repeat)]\n",
    "data_function=data_function[~data_function['que_id'].isin(list_repeat)]#交集部分数目比例较少，直接删去"
   ]
  },
  {
   "cell_type": "code",
   "execution_count": 19,
   "metadata": {},
   "outputs": [
    {
     "name": "stdout",
     "output_type": "stream",
     "text": [
      "<class 'pandas.core.frame.DataFrame'>\n",
      "Int64Index: 38776 entries, 0 to 30160\n",
      "Data columns (total 6 columns):\n",
      "kh_id       38776 non-null object\n",
      "name        38776 non-null object\n",
      "que_id      38776 non-null object\n",
      "content     38776 non-null object\n",
      "answer      32743 non-null object\n",
      "analysis    33172 non-null object\n",
      "dtypes: object(6)\n",
      "memory usage: 2.1+ MB\n"
     ]
    }
   ],
   "source": [
    "df_previous_all=data_triangle.append(data_function)\n",
    "df_previous_all.info()#查看信息"
   ]
  },
  {
   "cell_type": "code",
   "execution_count": 20,
   "metadata": {},
   "outputs": [],
   "source": [
    "df_all=df_previous_all.drop(['kh_id','answer','analysis'],axis=1)#进一步删去无用列\n",
    "df_all.head()\n",
    "df_all['label']=(df_all['name']==\"三角函数与解三角形\").astype(int)#设置好标签（‘1’对应三角函数与解三角形，‘0’对应函数与导数）"
   ]
  },
  {
   "cell_type": "code",
   "execution_count": 21,
   "metadata": {},
   "outputs": [],
   "source": [
    "df_all=df_all.drop(['name'],axis=1)"
   ]
  },
  {
   "cell_type": "code",
   "execution_count": 22,
   "metadata": {},
   "outputs": [
    {
     "data": {
      "text/html": [
       "<div>\n",
       "<style scoped>\n",
       "    .dataframe tbody tr th:only-of-type {\n",
       "        vertical-align: middle;\n",
       "    }\n",
       "\n",
       "    .dataframe tbody tr th {\n",
       "        vertical-align: top;\n",
       "    }\n",
       "\n",
       "    .dataframe thead th {\n",
       "        text-align: right;\n",
       "    }\n",
       "</style>\n",
       "<table border=\"1\" class=\"dataframe\">\n",
       "  <thead>\n",
       "    <tr style=\"text-align: right;\">\n",
       "      <th></th>\n",
       "      <th>que_id</th>\n",
       "      <th>content</th>\n",
       "      <th>label</th>\n",
       "    </tr>\n",
       "  </thead>\n",
       "  <tbody>\n",
       "    <tr>\n",
       "      <th>0</th>\n",
       "      <td>0001a4509d9e4d069f5c651b816a80a6</td>\n",
       "      <td>在 中 则 的 面积 等于 triangle angle circ triangle</td>\n",
       "      <td>1</td>\n",
       "    </tr>\n",
       "    <tr>\n",
       "      <th>1</th>\n",
       "      <td>0018a4cb687d46fb81b047f1b35e27e4</td>\n",
       "      <td>cos frac sin</td>\n",
       "      <td>1</td>\n",
       "    </tr>\n",
       "    <tr>\n",
       "      <th>2</th>\n",
       "      <td>0018feec97e246adb1ccdb0a0bc22bef</td>\n",
       "      <td>若 且 求 的 值 frac pi frac sin</td>\n",
       "      <td>1</td>\n",
       "    </tr>\n",
       "    <tr>\n",
       "      <th>3</th>\n",
       "      <td>001bfaffc89a4d3490b5528fd9cf802c</td>\n",
       "      <td>已知 函数 sin sin cdot cos</td>\n",
       "      <td>1</td>\n",
       "    </tr>\n",
       "    <tr>\n",
       "      <th>4</th>\n",
       "      <td>001d97674fae40209f82cb33a12ce6a3</td>\n",
       "      <td>若 曲线 上 两个 不同 处 的 切线 重合 则 称 这条 切线 为 曲线 的 自 公切线 ...</td>\n",
       "      <td>1</td>\n",
       "    </tr>\n",
       "  </tbody>\n",
       "</table>\n",
       "</div>"
      ],
      "text/plain": [
       "                             que_id  \\\n",
       "0  0001a4509d9e4d069f5c651b816a80a6   \n",
       "1  0018a4cb687d46fb81b047f1b35e27e4   \n",
       "2  0018feec97e246adb1ccdb0a0bc22bef   \n",
       "3  001bfaffc89a4d3490b5528fd9cf802c   \n",
       "4  001d97674fae40209f82cb33a12ce6a3   \n",
       "\n",
       "                                             content  label  \n",
       "0         在 中 则 的 面积 等于 triangle angle circ triangle      1  \n",
       "1                                       cos frac sin      1  \n",
       "2                         若 且 求 的 值 frac pi frac sin      1  \n",
       "3                             已知 函数 sin sin cdot cos      1  \n",
       "4  若 曲线 上 两个 不同 处 的 切线 重合 则 称 这条 切线 为 曲线 的 自 公切线 ...      1  "
      ]
     },
     "execution_count": 22,
     "metadata": {},
     "output_type": "execute_result"
    }
   ],
   "source": [
    "df_all.head()#查看数据"
   ]
  },
  {
   "cell_type": "markdown",
   "metadata": {},
   "source": [
    "## 步骤四：Tf-IDF生成文档向量\n",
    "\n",
    "我们使用sklearn的工具来生成Tf-IDF的文档向量，可以理解为把文档的文本数据生成向量数据。\n",
    "[TF-IDF资料](http://www.ruanyifeng.com/blog/2013/03/tf-idf.html)"
   ]
  },
  {
   "cell_type": "code",
   "execution_count": 61,
   "metadata": {},
   "outputs": [],
   "source": [
    "## 请不要修改下方代码\n",
    "from sklearn.feature_extraction.text import CountVectorizer\n",
    "from sklearn.feature_extraction.text import TfidfTransformer\n",
    "counter = CountVectorizer(max_df=0.8,min_df=0.001)\n",
    "counts = counter.fit_transform(df_all.content)\n",
    "tfidfer = TfidfTransformer()\n",
    "tfidf = tfidfer.fit_transform(counts)\n",
    "data=tfidf.toarray()\n",
    "label=df_all.label.values"
   ]
  },
  {
   "cell_type": "code",
   "execution_count": 24,
   "metadata": {},
   "outputs": [],
   "source": [
    "## max_df,min_df这两个参数的意义：\n",
    "#max_df表示忽略词频在给定值上的词，因为这些词的词频过高往往意味着特异性不够好，无法利用这类词进行有效的判断；\n",
    "#min_df表示忽略词频在给定值下的词，因为这些词的词频过低会导致利用这一特征进行判断的模型泛化能力降低；"
   ]
  },
  {
   "cell_type": "markdown",
   "metadata": {},
   "source": [
    "## 步骤五：建立模型\n",
    "\n",
    "请使用上课的方法，选择合适的模型以及评估方式，使用交叉验证和网格搜索建立模型，并选择合适的参数,打印出交叉验证的结果。"
   ]
  },
  {
   "cell_type": "code",
   "execution_count": 25,
   "metadata": {},
   "outputs": [
    {
     "name": "stderr",
     "output_type": "stream",
     "text": [
      "/Users/chengyuqing/anaconda3/lib/python3.6/site-packages/sklearn/cross_validation.py:41: DeprecationWarning: This module was deprecated in version 0.18 in favor of the model_selection module into which all the refactored classes and functions are moved. Also note that the interface of the new CV iterators are different from that of this module. This module will be removed in 0.20.\n",
      "  \"This module will be removed in 0.20.\", DeprecationWarning)\n",
      "/Users/chengyuqing/anaconda3/lib/python3.6/site-packages/sklearn/grid_search.py:42: DeprecationWarning: This module was deprecated in version 0.18 in favor of the model_selection module into which all the refactored classes and functions are moved. This module will be removed in 0.20.\n",
      "  DeprecationWarning)\n"
     ]
    }
   ],
   "source": [
    "#模型选择、交叉验证、网格搜索\n",
    "from sklearn.preprocessing import StandardScaler\n",
    "from sklearn.decomposition import PCA\n",
    "from sklearn.pipeline import Pipeline\n",
    "from sklearn.grid_search import GridSearchCV\n",
    "from sklearn.cross_validation import train_test_split\n",
    "from sklearn.metrics import accuracy_score\n",
    "from sklearn.metrics import roc_auc_score\n",
    "x_train,x_test,y_train,y_test=train_test_split(data,label,test_size=0.1)"
   ]
  },
  {
   "cell_type": "code",
   "execution_count": 26,
   "metadata": {},
   "outputs": [
    {
     "name": "stderr",
     "output_type": "stream",
     "text": [
      "/Users/chengyuqing/anaconda3/lib/python3.6/site-packages/sklearn/ensemble/weight_boosting.py:29: DeprecationWarning: numpy.core.umath_tests is an internal NumPy module and should not be imported. It will be removed in a future NumPy release.\n",
      "  from numpy.core.umath_tests import inner1d\n"
     ]
    }
   ],
   "source": [
    "from sklearn.neighbors import KNeighborsClassifier  \n",
    "from sklearn.naive_bayes import GaussianNB   \n",
    "from sklearn.ensemble import RandomForestClassifier  \n",
    "from sklearn.linear_model import LogisticRegression\n",
    "from sklearn.svm import SVC\n",
    "from sklearn.naive_bayes import MultinomialNB"
   ]
  },
  {
   "cell_type": "code",
   "execution_count": 67,
   "metadata": {},
   "outputs": [
    {
     "data": {
      "text/plain": [
       "0.8997111070133381"
      ]
     },
     "execution_count": 67,
     "metadata": {},
     "output_type": "execute_result"
    }
   ],
   "source": [
    "clf = MultinomialNB()\n",
    "clf.fit(x_train, y_train) \n",
    "pred = clf.predict(x_test)\n",
    "roc_auc_score(y_score=pred,y_true=y_test)"
   ]
  },
  {
   "cell_type": "code",
   "execution_count": 45,
   "metadata": {},
   "outputs": [
    {
     "data": {
      "text/plain": [
       "0.8053279907235285"
      ]
     },
     "execution_count": 45,
     "metadata": {},
     "output_type": "execute_result"
    }
   ],
   "source": [
    "from sklearn.naive_bayes import GaussianNB   \n",
    "clf = GaussianNB()\n",
    "clf.fit(x_train, y_train) \n",
    "pred = clf.predict(x_test)\n",
    "roc_auc_score(y_score=pred,y_true=y_test)\n"
   ]
  },
  {
   "cell_type": "code",
   "execution_count": 69,
   "metadata": {},
   "outputs": [
    {
     "data": {
      "text/plain": [
       "0.9122800285072089"
      ]
     },
     "execution_count": 69,
     "metadata": {},
     "output_type": "execute_result"
    }
   ],
   "source": [
    "clf = LogisticRegression(random_state=1)\n",
    "clf.fit(x_train, y_train) \n",
    "pred = clf.predict(x_test)\n",
    "roc_auc_score(y_true=y_test,y_score=pred)\n"
   ]
  },
  {
   "cell_type": "code",
   "execution_count": 75,
   "metadata": {},
   "outputs": [
    {
     "data": {
      "text/plain": [
       "0.9287676944877756"
      ]
     },
     "execution_count": 75,
     "metadata": {},
     "output_type": "execute_result"
    }
   ],
   "source": [
    "clf =RandomForestClassifier(random_state=1)\n",
    "clf.fit(x_train, y_train) \n",
    "pred = clf.predict(x_test)\n",
    "roc_auc_score(y_score=pred,y_true=y_test)"
   ]
  },
  {
   "cell_type": "markdown",
   "metadata": {},
   "source": [
    "综合以上结果，选择multinomialNB,逻辑斯特回归，随机森林"
   ]
  },
  {
   "cell_type": "code",
   "execution_count": 49,
   "metadata": {
    "scrolled": true
   },
   "outputs": [
    {
     "name": "stdout",
     "output_type": "stream",
     "text": [
      "Fitting 10 folds for each of 7 candidates, totalling 70 fits\n"
     ]
    },
    {
     "name": "stderr",
     "output_type": "stream",
     "text": [
      "[Parallel(n_jobs=-1)]: Done  42 tasks      | elapsed:   14.0s\n",
      "[Parallel(n_jobs=-1)]: Done  70 out of  70 | elapsed:   22.2s finished\n"
     ]
    },
    {
     "name": "stdout",
     "output_type": "stream",
     "text": [
      "[mean: 0.98123, std: 0.00269, params: {'C': 1}, mean: 0.98163, std: 0.00269, params: {'C': 2}, mean: 0.98177, std: 0.00268, params: {'C': 3}, mean: 0.98183, std: 0.00272, params: {'C': 4}, mean: 0.98187, std: 0.00273, params: {'C': 5}, mean: 0.98190, std: 0.00274, params: {'C': 6}, mean: 0.98189, std: 0.00274, params: {'C': 7}]\n"
     ]
    },
    {
     "data": {
      "text/plain": [
       "{'C': 6}"
      ]
     },
     "execution_count": 49,
     "metadata": {},
     "output_type": "execute_result"
    }
   ],
   "source": [
    "clf_lr=LogisticRegression(random_state=1)\n",
    "param_grid=[{'C':[1,2,3,4,5,6,7]}]\n",
    "gs=GridSearchCV(estimator=clf_lr,param_grid=param_grid,scoring='roc_auc',cv=10,n_jobs=-1,verbose=1)\n",
    "gs.fit(x_train,y_train)\n",
    "print(gs.grid_scores_)\n",
    "gs.best_score_\n",
    "gs.best_params_"
   ]
  },
  {
   "cell_type": "code",
   "execution_count": 64,
   "metadata": {},
   "outputs": [
    {
     "name": "stdout",
     "output_type": "stream",
     "text": [
      "Fitting 10 folds for each of 5 candidates, totalling 50 fits\n"
     ]
    },
    {
     "name": "stderr",
     "output_type": "stream",
     "text": [
      "[Parallel(n_jobs=-1)]: Done  42 tasks      | elapsed:  7.7min\n",
      "[Parallel(n_jobs=-1)]: Done  50 out of  50 | elapsed:  9.2min finished\n"
     ]
    },
    {
     "name": "stdout",
     "output_type": "stream",
     "text": [
      "[mean: 0.98505, std: 0.00255, params: {'n_estimators': 60}, mean: 0.98504, std: 0.00256, params: {'n_estimators': 70}, mean: 0.98504, std: 0.00256, params: {'n_estimators': 80}, mean: 0.98507, std: 0.00262, params: {'n_estimators': 90}, mean: 0.98506, std: 0.00256, params: {'n_estimators': 100}]\n"
     ]
    },
    {
     "data": {
      "text/plain": [
       "{'n_estimators': 90}"
      ]
     },
     "execution_count": 64,
     "metadata": {},
     "output_type": "execute_result"
    }
   ],
   "source": [
    "clf_RFC=RandomForestClassifier(random_state=1)\n",
    "param_RFC=[{'n_estimators':[60,70,80,90,100]}]\n",
    "gs=GridSearchCV(estimator=clf_RFC,param_grid=param_RFC,scoring='roc_auc',cv=10,n_jobs=-1,verbose=1)\n",
    "gs.fit(x_train,y_train)\n",
    "print(gs.grid_scores_)\n",
    "gs.best_score_\n",
    "gs.best_params_"
   ]
  },
  {
   "cell_type": "code",
   "execution_count": 76,
   "metadata": {},
   "outputs": [
    {
     "name": "stdout",
     "output_type": "stream",
     "text": [
      "Fitting 10 folds for each of 9 candidates, totalling 90 fits\n"
     ]
    },
    {
     "name": "stderr",
     "output_type": "stream",
     "text": [
      "[Parallel(n_jobs=-1)]: Done  42 tasks      | elapsed: 43.1min\n",
      "[Parallel(n_jobs=-1)]: Done  90 out of  90 | elapsed: 51.9min finished\n"
     ]
    },
    {
     "name": "stdout",
     "output_type": "stream",
     "text": [
      "[mean: 0.98434, std: 0.00208, params: {'min_samples_leaf': 1, 'min_samples_split': 2}, mean: 0.98471, std: 0.00195, params: {'min_samples_leaf': 1, 'min_samples_split': 3}, mean: 0.98480, std: 0.00194, params: {'min_samples_leaf': 1, 'min_samples_split': 4}, mean: 0.98453, std: 0.00217, params: {'min_samples_leaf': 2, 'min_samples_split': 2}, mean: 0.98453, std: 0.00217, params: {'min_samples_leaf': 2, 'min_samples_split': 3}, mean: 0.98453, std: 0.00217, params: {'min_samples_leaf': 2, 'min_samples_split': 4}, mean: 0.98366, std: 0.00237, params: {'min_samples_leaf': 3, 'min_samples_split': 2}, mean: 0.98366, std: 0.00237, params: {'min_samples_leaf': 3, 'min_samples_split': 3}, mean: 0.98366, std: 0.00237, params: {'min_samples_leaf': 3, 'min_samples_split': 4}]\n"
     ]
    },
    {
     "data": {
      "text/plain": [
       "{'min_samples_leaf': 1, 'min_samples_split': 4}"
      ]
     },
     "execution_count": 76,
     "metadata": {},
     "output_type": "execute_result"
    }
   ],
   "source": [
    "clf_RFC=RandomForestClassifier(n_estimators=90,random_state=1)\n",
    "param_RFC= {'min_samples_split':[2,3,4],'min_samples_leaf':[1,2,3]}\n",
    "gs = GridSearchCV(estimator = clf_RFC,param_grid = param_RFC, scoring='roc_auc',cv=10,n_jobs=-1,verbose=1)\n",
    "gs.fit(x_train,y_train)\n",
    "print(gs.grid_scores_)\n",
    "gs.best_score_\n",
    "gs.best_params_"
   ]
  },
  {
   "cell_type": "code",
   "execution_count": 31,
   "metadata": {},
   "outputs": [
    {
     "name": "stdout",
     "output_type": "stream",
     "text": [
      "Fitting 10 folds for each of 5 candidates, totalling 50 fits\n"
     ]
    },
    {
     "name": "stderr",
     "output_type": "stream",
     "text": [
      "[Parallel(n_jobs=-1)]: Done  42 tasks      | elapsed:   11.1s\n",
      "[Parallel(n_jobs=-1)]: Done  50 out of  50 | elapsed:   13.1s finished\n"
     ]
    },
    {
     "name": "stdout",
     "output_type": "stream",
     "text": [
      "[mean: 0.97415, std: 0.00242, params: {'alpha': 0.2}, mean: 0.97412, std: 0.00239, params: {'alpha': 0.4}, mean: 0.97406, std: 0.00241, params: {'alpha': 0.6}, mean: 0.97402, std: 0.00241, params: {'alpha': 0.8}, mean: 0.97398, std: 0.00241, params: {'alpha': 1.0}]\n"
     ]
    },
    {
     "data": {
      "text/plain": [
       "{'alpha': 0.2}"
      ]
     },
     "execution_count": 31,
     "metadata": {},
     "output_type": "execute_result"
    }
   ],
   "source": [
    "clf_mnb=MultinomialNB()\n",
    "param_mnb={'alpha':[0.2,0.4,0.6,0.8,1.0]}\n",
    "gs = GridSearchCV(estimator = clf_mnb,param_grid = param_mnb, scoring='roc_auc',cv=10,n_jobs=-1,verbose=1)\n",
    "gs.fit(x_train,y_train)\n",
    "print(gs.grid_scores_)\n",
    "gs.best_score_\n",
    "gs.best_params_"
   ]
  },
  {
   "cell_type": "markdown",
   "metadata": {},
   "source": [
    "## 步骤六：模型集成\n",
    "尝试使用stacking等方法对步骤五生成的不同学习器进行集成。"
   ]
  },
  {
   "cell_type": "code",
   "execution_count": 58,
   "metadata": {},
   "outputs": [
    {
     "name": "stdout",
     "output_type": "stream",
     "text": [
      "lab,acc:0.9818439667966028\n",
      "lab,acc:0.984014494099895\n",
      "lab,acc:0.9739867616516028\n",
      "lab,acc:0.9848976345142236\n"
     ]
    }
   ],
   "source": [
    "## TODO:模型集成\n",
    "#用传统的集成方法集成学习器\n",
    "from sklearn import model_selection\n",
    "from mlxtend.classifier import EnsembleVoteClassifier\n",
    "\n",
    "clf_lr=LogisticRegression(C=6,random_state=1)\n",
    "clf_RFC=RandomForestClassifier(n_estimators=90,random_state=1,min_samples_split=4,min_samples_leaf=1)\n",
    "clf_mnb=MultinomialNB(alpha=0.2)\n",
    "Ensemblemodel1 = EnsembleVoteClassifier(clfs=[clf_lr,clf_RFC,clf_mnb], weights=[1,1,1], voting='soft')\n",
    "\n",
    "for clf, lab in zip([clf_lr,clf_RFC,clf_mnb,Ensemblemodel1],\n",
    "                         ['Logistic Regression', 'RandomForest','MutinomialNB','Ensemble']):\n",
    "    scores = model_selection.cross_val_score(clf, x_train, y_train,cv=3, scoring='roc_auc')\n",
    "    print('lab,roc:{}'.format(scores.mean()))"
   ]
  },
  {
   "cell_type": "code",
   "execution_count": 64,
   "metadata": {},
   "outputs": [
    {
     "name": "stderr",
     "output_type": "stream",
     "text": [
      "/Users/chengyuqing/anaconda3/lib/python3.6/site-packages/sklearn/preprocessing/label.py:151: DeprecationWarning: The truth value of an empty array is ambiguous. Returning False, but in future this will result in an error. Use `array.size > 0` to check that an array is not empty.\n",
      "  if diff:\n"
     ]
    },
    {
     "data": {
      "text/plain": [
       "0.9222720046249459"
      ]
     },
     "execution_count": 64,
     "metadata": {},
     "output_type": "execute_result"
    }
   ],
   "source": [
    "#在测试集上观擦集成模型的预测结果\n",
    "Ensemblemodel1.fit(x_train, y_train) \n",
    "pred = Ensemblemodel1.predict(x_test)\n",
    "roc_auc_score(y_true=y_test,y_score=pred)"
   ]
  },
  {
   "cell_type": "code",
   "execution_count": 40,
   "metadata": {},
   "outputs": [
    {
     "name": "stdout",
     "output_type": "stream",
     "text": [
      "3-fold cross validation:\n",
      "\n",
      "Accuracy: 0.9818 (+/- 0.0013) [logistic regression]\n"
     ]
    },
    {
     "name": "stderr",
     "output_type": "stream",
     "text": [
      "[Parallel(n_jobs=-1)]: Done   3 out of   3 | elapsed:    1.7s finished\n"
     ]
    },
    {
     "name": "stdout",
     "output_type": "stream",
     "text": [
      "Accuracy: 0.9840 (+/- 0.0016) [Random Forest]\n"
     ]
    },
    {
     "name": "stderr",
     "output_type": "stream",
     "text": [
      "[Parallel(n_jobs=-1)]: Done   3 out of   3 | elapsed:   27.2s finished\n",
      "[Parallel(n_jobs=-1)]: Done   3 out of   3 | elapsed:    1.4s finished\n"
     ]
    },
    {
     "name": "stdout",
     "output_type": "stream",
     "text": [
      "Accuracy: 0.9740 (+/- 0.0016) [MutilnomialNB]\n",
      "Accuracy: 0.9434 (+/- 0.0031) [StackingClassifier]\n"
     ]
    },
    {
     "name": "stderr",
     "output_type": "stream",
     "text": [
      "[Parallel(n_jobs=-1)]: Done   3 out of   3 | elapsed:   29.4s finished\n"
     ]
    }
   ],
   "source": [
    "#利用stacking集成方法\n",
    "from mlxtend.classifier import StackingClassifier  \n",
    "lr=LogisticRegression()\n",
    "Ensemblemodel2= StackingClassifier(classifiers=[clf_lr, clf_RFC,clf_mnb],   \n",
    "                          meta_classifier=lr)  \n",
    "  \n",
    "print('3-fold cross validation:\\n')  \n",
    "  \n",
    "for clf, label in zip([clf_lr,clf_RFC,clf_mnb,Ensemblemodel2],   \n",
    "                      ['logistic regression',\n",
    "                       'Random Forest', \n",
    "                       'MutilnomialNB',\n",
    "                       'StackingClassifier']):  \n",
    "  \n",
    "    scores = model_selection.cross_val_score(clf, x_train, y_train,   \n",
    "                                              cv=3, scoring='roc_auc',n_jobs=-1,verbose=1)  \n",
    "    print(\"ROC_AUC: %0.4f (+/- %0.4f) [%s]\"   \n",
    "          % (scores.mean(), scores.std(), label))  "
   ]
  },
  {
   "cell_type": "code",
   "execution_count": 51,
   "metadata": {},
   "outputs": [
    {
     "data": {
      "text/plain": [
       "0.9364704553345528"
      ]
     },
     "execution_count": 51,
     "metadata": {},
     "output_type": "execute_result"
    }
   ],
   "source": [
    "#在测试集上观擦集成模型的预测结果\n",
    "Ensemblemodel2.fit(x_train, y_train) \n",
    "pred = Ensemblemodel2.predict(x_test)\n",
    "roc_auc_score(y_true=y_test,y_score=pred)"
   ]
  },
  {
   "cell_type": "markdown",
   "metadata": {},
   "source": [
    "## 步骤七：画出ROC曲线\n",
    "使用matplotlib对生成好的模型，在测试集上画出ROC曲线。"
   ]
  },
  {
   "cell_type": "code",
   "execution_count": 63,
   "metadata": {},
   "outputs": [
    {
     "data": {
      "image/png": "[encoded data removed]",
      "text/plain": [
       "<Figure size 432x288 with 1 Axes>"
      ]
     },
     "metadata": {},
     "output_type": "display_data"
    }
   ],
   "source": [
    "## TODO：ROC曲线\n",
    "#对上方在测试集上表现最好的Ensemblemodel2进行作图\n",
    "from sklearn.metrics import roc_curve,auc\n",
    "from sklearn.cross_validation import StratifiedKFold\n",
    "from matplotlib import pyplot as plt\n",
    "kfold=StratifiedKFold(y=label,n_folds=3,random_state=1)\n",
    "for i,(train,test) in enumerate(kfold):\n",
    "    prob=Ensemblemodel2.fit(x_train,y_train).predict_proba(x_test)\n",
    "    fpr,tpr,thresholds=roc_curve(y_test,prob[:,1],pos_label=1)\n",
    "    roc_auc=auc(fpr,tpr)\n",
    "    plt.plot(fpr,tpr,label='ROC fold:{},auc:{}'.format(i,roc_auc))"
   ]
  }
 ],
 "metadata": {
  "kernelspec": {
   "display_name": "Python [conda root]",
   "language": "python",
   "name": "conda-root-py"
  },
  "language_info": {
   "codemirror_mode": {
    "name": "ipython",
    "version": 3
   },
   "file_extension": ".py",
   "mimetype": "text/x-python",
   "name": "python",
   "nbconvert_exporter": "python",
   "pygments_lexer": "ipython3",
   "version": "3.6.7"
  }
 },
 "nbformat": 4,
 "nbformat_minor": 2
}
